{
 "cells": [
  {
   "cell_type": "markdown",
   "id": "29528fd2",
   "metadata": {},
   "source": [
    "# Predicting U.S. House Election Winners\n",
    "## CPSC 322, Fall 2024\n",
    "### Team: Matt S && Ryan St. Mary\n",
    "\n",
    "## Introduction\n",
    "In this project, we aim to predict the winners of U.S. House elections based on polling data and past election results. The dataset merges U.S. House polling data with actual election outcomes for the years 2018–2022, providing attributes such as polling percentages (`c1_pct`, `c2_pct`), parties of candidates, and final election outcomes (`winner_party`). The classification task is to predict the political party of the winning candidate (e.g., Democrat, Republican).\n",
    "\n",
    "We have implemented and tested multiple classifiers studied this semester: Dummy, k-Nearest Neighbors (kNN), Naive Bayes, a single Decision Tree, and a custom Random Forest classifier. The Random Forest classifier is implemented following test-driven development, with parameters N, M, and F, and standard entropy-based splitting on a random subset of attributes at each node.\n",
    "\n",
    "After comparing these classifiers, we will identify which classifier performs best on our dataset. We will also build a Flask web app to serve predictions from the best model.\n"
   ]
  },
  {
   "cell_type": "markdown",
   "id": "79395ecd",
   "metadata": {},
   "source": [
    "## Data Analysis"
   ]
  },
  {
   "cell_type": "code",
   "execution_count": 9,
   "id": "8c353588",
   "metadata": {},
   "outputs": [
    {
     "name": "stdout",
     "output_type": "stream",
     "text": [
      "Number of instances: 363\n",
      "Attributes: ['year', 'state', 'district', 'c1_x', 'c2_x', 'c1_party_x', 'c2_party_x', 'c1_votes', 'c2_votes', 'winner', 'winner_party', 'c1_y', 'c2_y', 'c1_party_y', 'c2_party_y', 'c1_pct', 'c2_pct']\n"
     ]
    },
    {
     "data": {
      "text/html": [
       "<div>\n",
       "<style scoped>\n",
       "    .dataframe tbody tr th:only-of-type {\n",
       "        vertical-align: middle;\n",
       "    }\n",
       "\n",
       "    .dataframe tbody tr th {\n",
       "        vertical-align: top;\n",
       "    }\n",
       "\n",
       "    .dataframe thead th {\n",
       "        text-align: right;\n",
       "    }\n",
       "</style>\n",
       "<table border=\"1\" class=\"dataframe\">\n",
       "  <thead>\n",
       "    <tr style=\"text-align: right;\">\n",
       "      <th></th>\n",
       "      <th>year</th>\n",
       "      <th>state</th>\n",
       "      <th>district</th>\n",
       "      <th>c1_x</th>\n",
       "      <th>c2_x</th>\n",
       "      <th>c1_party_x</th>\n",
       "      <th>c2_party_x</th>\n",
       "      <th>c1_votes</th>\n",
       "      <th>c2_votes</th>\n",
       "      <th>winner</th>\n",
       "      <th>winner_party</th>\n",
       "      <th>c1_y</th>\n",
       "      <th>c2_y</th>\n",
       "      <th>c1_party_y</th>\n",
       "      <th>c2_party_y</th>\n",
       "      <th>c1_pct</th>\n",
       "      <th>c2_pct</th>\n",
       "    </tr>\n",
       "  </thead>\n",
       "  <tbody>\n",
       "    <tr>\n",
       "      <th>0</th>\n",
       "      <td>2018</td>\n",
       "      <td>ARIZONA</td>\n",
       "      <td>1</td>\n",
       "      <td>TOM O'HALLERAN</td>\n",
       "      <td>WENDY ROGERS</td>\n",
       "      <td>DEMOCRAT</td>\n",
       "      <td>REPUBLICAN</td>\n",
       "      <td>143240</td>\n",
       "      <td>122784.0</td>\n",
       "      <td>TOM O'HALLERAN</td>\n",
       "      <td>DEMOCRAT</td>\n",
       "      <td>WENDY J. ROGERS</td>\n",
       "      <td>TOM O'HALLERAN</td>\n",
       "      <td>REP</td>\n",
       "      <td>DEM</td>\n",
       "      <td>39.44</td>\n",
       "      <td>36.23</td>\n",
       "    </tr>\n",
       "    <tr>\n",
       "      <th>1</th>\n",
       "      <td>2018</td>\n",
       "      <td>ARIZONA</td>\n",
       "      <td>2</td>\n",
       "      <td>ANN KIRKPATRICK</td>\n",
       "      <td>LEA MARQUEZ PETERSON</td>\n",
       "      <td>DEMOCRAT</td>\n",
       "      <td>REPUBLICAN</td>\n",
       "      <td>161000</td>\n",
       "      <td>133083.0</td>\n",
       "      <td>ANN KIRKPATRICK</td>\n",
       "      <td>DEMOCRAT</td>\n",
       "      <td>MATTHEW G. HEINZ</td>\n",
       "      <td>LEA MARQUEZ PETERSON</td>\n",
       "      <td>DEM</td>\n",
       "      <td>REP</td>\n",
       "      <td>45.00</td>\n",
       "      <td>31.00</td>\n",
       "    </tr>\n",
       "    <tr>\n",
       "      <th>2</th>\n",
       "      <td>2018</td>\n",
       "      <td>ARIZONA</td>\n",
       "      <td>4</td>\n",
       "      <td>PAUL GOSAR</td>\n",
       "      <td>DAVID BRILL</td>\n",
       "      <td>REPUBLICAN</td>\n",
       "      <td>DEMOCRAT</td>\n",
       "      <td>188842</td>\n",
       "      <td>84521.0</td>\n",
       "      <td>PAUL GOSAR</td>\n",
       "      <td>REPUBLICAN</td>\n",
       "      <td>PAUL GOSAR</td>\n",
       "      <td>DAVID BRILL</td>\n",
       "      <td>REP</td>\n",
       "      <td>DEM</td>\n",
       "      <td>57.00</td>\n",
       "      <td>25.00</td>\n",
       "    </tr>\n",
       "    <tr>\n",
       "      <th>3</th>\n",
       "      <td>2018</td>\n",
       "      <td>ARIZONA</td>\n",
       "      <td>6</td>\n",
       "      <td>DAVID SCHWEIKERT</td>\n",
       "      <td>ANITA MALIK</td>\n",
       "      <td>REPUBLICAN</td>\n",
       "      <td>DEMOCRAT</td>\n",
       "      <td>173140</td>\n",
       "      <td>140559.0</td>\n",
       "      <td>DAVID SCHWEIKERT</td>\n",
       "      <td>REPUBLICAN</td>\n",
       "      <td>DAVID SCHWEIKERT</td>\n",
       "      <td>DAVID SCHWEIKERT</td>\n",
       "      <td>REP</td>\n",
       "      <td>REP</td>\n",
       "      <td>49.97</td>\n",
       "      <td>44.83</td>\n",
       "    </tr>\n",
       "    <tr>\n",
       "      <th>4</th>\n",
       "      <td>2018</td>\n",
       "      <td>ARIZONA</td>\n",
       "      <td>8</td>\n",
       "      <td>DEBBIE LESKO</td>\n",
       "      <td>HIRAL TIPIRNENI</td>\n",
       "      <td>REPUBLICAN</td>\n",
       "      <td>DEMOCRAT</td>\n",
       "      <td>168835</td>\n",
       "      <td>135569.0</td>\n",
       "      <td>DEBBIE LESKO</td>\n",
       "      <td>REPUBLICAN</td>\n",
       "      <td>DEBBIE LESKO</td>\n",
       "      <td>HIRAL TIPIRNENI</td>\n",
       "      <td>REP</td>\n",
       "      <td>DEM</td>\n",
       "      <td>49.00</td>\n",
       "      <td>43.00</td>\n",
       "    </tr>\n",
       "  </tbody>\n",
       "</table>\n",
       "</div>"
      ],
      "text/plain": [
       "   year    state  district              c1_x                  c2_x  \\\n",
       "0  2018  ARIZONA         1    TOM O'HALLERAN          WENDY ROGERS   \n",
       "1  2018  ARIZONA         2   ANN KIRKPATRICK  LEA MARQUEZ PETERSON   \n",
       "2  2018  ARIZONA         4        PAUL GOSAR           DAVID BRILL   \n",
       "3  2018  ARIZONA         6  DAVID SCHWEIKERT           ANITA MALIK   \n",
       "4  2018  ARIZONA         8      DEBBIE LESKO       HIRAL TIPIRNENI   \n",
       "\n",
       "   c1_party_x  c2_party_x  c1_votes  c2_votes            winner winner_party  \\\n",
       "0    DEMOCRAT  REPUBLICAN    143240  122784.0    TOM O'HALLERAN     DEMOCRAT   \n",
       "1    DEMOCRAT  REPUBLICAN    161000  133083.0   ANN KIRKPATRICK     DEMOCRAT   \n",
       "2  REPUBLICAN    DEMOCRAT    188842   84521.0        PAUL GOSAR   REPUBLICAN   \n",
       "3  REPUBLICAN    DEMOCRAT    173140  140559.0  DAVID SCHWEIKERT   REPUBLICAN   \n",
       "4  REPUBLICAN    DEMOCRAT    168835  135569.0      DEBBIE LESKO   REPUBLICAN   \n",
       "\n",
       "               c1_y                  c2_y c1_party_y c2_party_y  c1_pct  \\\n",
       "0   WENDY J. ROGERS        TOM O'HALLERAN        REP        DEM   39.44   \n",
       "1  MATTHEW G. HEINZ  LEA MARQUEZ PETERSON        DEM        REP   45.00   \n",
       "2        PAUL GOSAR           DAVID BRILL        REP        DEM   57.00   \n",
       "3  DAVID SCHWEIKERT      DAVID SCHWEIKERT        REP        REP   49.97   \n",
       "4      DEBBIE LESKO       HIRAL TIPIRNENI        REP        DEM   49.00   \n",
       "\n",
       "   c2_pct  \n",
       "0   36.23  \n",
       "1   31.00  \n",
       "2   25.00  \n",
       "3   44.83  \n",
       "4   43.00  "
      ]
     },
     "execution_count": 9,
     "metadata": {},
     "output_type": "execute_result"
    }
   ],
   "source": [
    "import pandas as pd\n",
    "import matplotlib.pyplot as plt\n",
    "import seaborn as sns\n",
    "\n",
    "# Load the merged dataset\n",
    "data = pd.read_csv('data/joined_polls_elections.csv')\n",
    "\n",
    "# Print basic info\n",
    "print(\"Number of instances:\", len(data))\n",
    "print(\"Attributes:\", data.columns.tolist())\n",
    "data.head()"
   ]
  },
  {
   "cell_type": "markdown",
   "id": "34d07471",
   "metadata": {},
   "source": [
    "### Dataset Details\n",
    "The dataset contains attributes such as:\n",
    "- `year`: The election year.\n",
    "- `state`: The U.S. state.\n",
    "- `district`: The congressional district number.\n",
    "- `c1`, `c2`: The top two candidates in the race.\n",
    "- `c1_party`, `c2_party`: Parties of these candidates.\n",
    "- `c1_pct`, `c2_pct`: Polling percentages for these top two candidates.\n",
    "- `winner`, `winner_party`: Actual election winner and their party.\n",
    "\n",
    "The class label to predict is `winner_party`. We'll consider parties like `REPUBLICAN`, `DEMOCRAT`, and possibly others.\n",
    "\n",
    "This dataset is relatively small (a few hundred instances), which may pose challenges for generalization.\n"
   ]
  },
  {
   "cell_type": "markdown",
   "id": "9faf77bf",
   "metadata": {},
   "source": [
    "### Summary Statistics and Visualizations"
   ]
  },
  {
   "cell_type": "code",
   "execution_count": 10,
   "id": "f00338a3",
   "metadata": {},
   "outputs": [
    {
     "name": "stdout",
     "output_type": "stream",
     "text": [
      "               year       state    district         c1_x        c2_x  \\\n",
      "count    363.000000         363  363.000000          363         362   \n",
      "unique          NaN          41         NaN          287         338   \n",
      "top             NaN  CALIFORNIA         NaN  ANGIE CRAIG  DAN FEEHAN   \n",
      "freq            NaN          33         NaN            3           2   \n",
      "mean    2019.735537         NaN    9.336088          NaN         NaN   \n",
      "std        1.674155         NaN   10.378074          NaN         NaN   \n",
      "min     2018.000000         NaN    1.000000          NaN         NaN   \n",
      "25%     2018.000000         NaN    2.000000          NaN         NaN   \n",
      "50%     2020.000000         NaN    6.000000          NaN         NaN   \n",
      "75%     2022.000000         NaN   13.000000          NaN         NaN   \n",
      "max     2022.000000         NaN   53.000000          NaN         NaN   \n",
      "\n",
      "        c1_party_x c2_party_x       c1_votes       c2_votes       winner  \\\n",
      "count          362        362     363.000000     362.000000          363   \n",
      "unique           3          4            NaN            NaN          287   \n",
      "top     REPUBLICAN   DEMOCRAT            NaN            NaN  ANGIE CRAIG   \n",
      "freq           204        202            NaN            NaN            3   \n",
      "mean           NaN        NaN  166978.738292  132531.599448          NaN   \n",
      "std            NaN        NaN   38706.038024   36125.959922          NaN   \n",
      "min            NaN        NaN   52994.000000   43729.000000          NaN   \n",
      "25%            NaN        NaN  141750.000000  109718.750000          NaN   \n",
      "50%            NaN        NaN  164089.000000  134311.000000          NaN   \n",
      "75%            NaN        NaN  189871.000000  155532.250000          NaN   \n",
      "max            NaN        NaN  322778.000000  222623.000000          NaN   \n",
      "\n",
      "       winner_party          c1_y         c2_y c1_party_y c2_party_y  \\\n",
      "count           362           363          363        363        363   \n",
      "unique            3           282          327          2          4   \n",
      "top      REPUBLICAN  CHRIS PAPPAS  MAX N. ROSE        REP        DEM   \n",
      "freq            204             3            3        207        209   \n",
      "mean            NaN           NaN          NaN        NaN        NaN   \n",
      "std             NaN           NaN          NaN        NaN        NaN   \n",
      "min             NaN           NaN          NaN        NaN        NaN   \n",
      "25%             NaN           NaN          NaN        NaN        NaN   \n",
      "50%             NaN           NaN          NaN        NaN        NaN   \n",
      "75%             NaN           NaN          NaN        NaN        NaN   \n",
      "max             NaN           NaN          NaN        NaN        NaN   \n",
      "\n",
      "            c1_pct      c2_pct  \n",
      "count   363.000000  363.000000  \n",
      "unique         NaN         NaN  \n",
      "top            NaN         NaN  \n",
      "freq           NaN         NaN  \n",
      "mean     47.669780   39.284435  \n",
      "std       5.510919    7.042870  \n",
      "min      23.100000   16.200000  \n",
      "25%      45.000000   36.000000  \n",
      "50%      47.000000   40.000000  \n",
      "75%      50.630000   43.000000  \n",
      "max      72.000000   72.000000  \n"
     ]
    }
   ],
   "source": [
    "print(data.describe(include='all'))"
   ]
  },
  {
   "cell_type": "markdown",
   "id": "8096927e",
   "metadata": {},
   "source": [
    "Figure 1 shows the distribution of `winner_party` classes."
   ]
  },
  {
   "cell_type": "code",
   "execution_count": 11,
   "id": "5166ba44",
   "metadata": {},
   "outputs": [
    {
     "data": {
      "image/png": "[encoded data removed]",
      "text/plain": [
       "<Figure size 640x480 with 1 Axes>"
      ]
     },
     "metadata": {},
     "output_type": "display_data"
    }
   ],
   "source": [
    "# Frequency of winner_party\n",
    "data['winner_party'].value_counts().plot(kind='bar', title='Winner Party Distribution (Figure 1)')\n",
    "plt.show()"
   ]
  },
  {
   "cell_type": "markdown",
   "id": "6422d8d8",
   "metadata": {},
   "source": [
    "We notice that `REPUBLICAN` and `DEMOCRAT` are the main parties. The dataset may be somewhat imbalanced.\n",
    "\n",
    "### Relationship Between Polling Percentages and Outcome\n",
    "Figure 2 shows a scatterplot of `c1_pct` vs. `c2_pct`, color-coded by `winner_party`."
   ]
  },
  {
   "cell_type": "code",
   "execution_count": 12,
   "id": "1790345b",
   "metadata": {},
   "outputs": [
    {
     "data": {
      "image/png": "[encoded data removed]",
      "text/plain": [
       "<Figure size 640x480 with 1 Axes>"
      ]
     },
     "metadata": {},
     "output_type": "display_data"
    }
   ],
   "source": [
    "sns.scatterplot(data=data, x='c1_pct', y='c2_pct', hue='winner_party')\n",
    "plt.title('Scatter of c1_pct vs c2_pct by winner_party (Figure 2)')\n",
    "plt.show()"
   ]
  },
  {
   "cell_type": "markdown",
   "id": "7d88169f",
   "metadata": {},
   "source": [
    "From Figure 2, we can see some correlation: if `c1_pct` is higher, that candidate's party might be more likely to win. We'll consider using just these percentages and parties in our models.\n",
    "\n",
    "We can also look at box plots of `c1_pct` and `c2_pct` by `winner_party` for additional insights."
   ]
  },
  {
   "cell_type": "code",
   "execution_count": 13,
   "id": "2b5a0e52",
   "metadata": {},
   "outputs": [
    {
     "data": {
      "image/png": "[encoded data removed]",
      "text/plain": [
       "<Figure size 1200x500 with 2 Axes>"
      ]
     },
     "metadata": {},
     "output_type": "display_data"
    }
   ],
   "source": [
    "fig, axes = plt.subplots(1,2, figsize=(12,5))\n",
    "sns.boxplot(x='winner_party', y='c1_pct', data=data, ax=axes[0])\n",
    "axes[0].set_title('c1_pct by winner_party (Figure 3)')\n",
    "sns.boxplot(x='winner_party', y='c2_pct', data=data, ax=axes[1])\n",
    "axes[1].set_title('c2_pct by winner_party (Figure 4)')\n",
    "plt.tight_layout()\n",
    "plt.show()"
   ]
  },
  {
   "cell_type": "markdown",
   "id": "f8d10318",
   "metadata": {},
   "source": [
    "These visualizations suggest that polling percentages are indeed predictive. We may also consider discretizing these attributes or selecting only certain features if needed.\n"
   ]
  },
  {
   "cell_type": "markdown",
   "id": "4c234634",
   "metadata": {},
   "source": [
    "## Classification Results\n",
    "\n",
    "We will compare multiple classifiers: Dummy (baseline), kNN, Naive Bayes, a single Decision Tree, and our Random Forest.\n",
    "\n",
    "### Data Preparation for Classification\n",
    "We'll convert `winner_party` to a simplified label set. For simplicity, let's focus on `REPUBLICAN` vs `DEMOCRAT`, and treat any others as `OTHER` (if they exist). We will discretize features if needed. We'll tune parameters for our random forest by running multiple experiments.\n"
   ]
  },
  {
   "cell_type": "code",
   "execution_count": 14,
   "id": "2ff226b8",
   "metadata": {},
   "outputs": [],
   "source": [
    "# Simplify winner_party\n",
    "y = data['winner_party'].apply(lambda x: 'DEMOCRAT' if x=='DEMOCRATIC-FARMER-LABOR' else x)\n",
    "X = data.drop('winner_party', axis=1)\n",
    "\n",
    "# Convert categorical features if present\n",
    "for col in ['c1_party_x', 'c2_party_x']:\n",
    "    if col in X.columns:\n",
    "        X[col] = X[col].astype('category').cat.codes\n",
    "\n",
    "selected_features = ['c1_pct', 'c2_pct']\n",
    "if 'c1_party_x' in X.columns:\n",
    "    selected_features.append('c1_party_x')\n",
    "if 'c2_party_x' in X.columns:\n",
    "    selected_features.append('c2_party_x')\n",
    "\n",
    "X_sel = X[selected_features]\n",
    "\n",
    "from sklearn.model_selection import train_test_split\n",
    "X_train, X_test, y_train, y_test = train_test_split(X_sel, y, test_size=0.4, random_state=42)\n"
   ]
  },
  {
   "cell_type": "markdown",
   "id": "9aba1ce7",
   "metadata": {},
   "source": [
    "### Classifier Implementations and Evaluations\n",
    "\n",
    "We assume `myclassifiers.py` contains the following classes:\n",
    "- `MyDummyClassifier`\n",
    "- `MyKNeighborsClassifier`\n",
    "- `MyNaiveBayesClassifier`\n",
    "- `MyDecisionTreeClassifier`\n",
    "- `MyRandomForestClassifier`\n",
    "\n",
    "We'll train and evaluate each classifier. For the Random Forest, we'll run multiple parameter settings and report results.\n"
   ]
  },
  {
   "cell_type": "code",
   "execution_count": 15,
   "id": "5768934d",
   "metadata": {},
   "outputs": [],
   "source": [
    "from classifiers.myclassifiers import MyDummyClassifier, MyKNeighborsClassifier, MyNaiveBayesClassifier, MyDecisionTreeClassifier, RandomForestClassifier\n",
    "from sklearn.metrics import confusion_matrix"
   ]
  },
  {
   "cell_type": "markdown",
   "id": "c259d24b",
   "metadata": {},
   "source": [
    "#### Dummy Classifier\n"
   ]
  },
  {
   "cell_type": "code",
   "execution_count": 16,
   "id": "65ce18ef",
   "metadata": {},
   "outputs": [
    {
     "ename": "NameError",
     "evalue": "name 'accuracy_score' is not defined",
     "output_type": "error",
     "traceback": [
      "\u001b[0;31m---------------------------------------------------------------------------\u001b[0m",
      "\u001b[0;31mNameError\u001b[0m                                 Traceback (most recent call last)",
      "Cell \u001b[0;32mIn[16], line 4\u001b[0m\n\u001b[1;32m      2\u001b[0m d\u001b[38;5;241m.\u001b[39mfit(X_train\u001b[38;5;241m.\u001b[39mvalues\u001b[38;5;241m.\u001b[39mtolist(), y_train\u001b[38;5;241m.\u001b[39mtolist())\n\u001b[1;32m      3\u001b[0m y_pred_dummy \u001b[38;5;241m=\u001b[39m d\u001b[38;5;241m.\u001b[39mpredict(X_test\u001b[38;5;241m.\u001b[39mvalues\u001b[38;5;241m.\u001b[39mtolist())\n\u001b[0;32m----> 4\u001b[0m dummy_acc \u001b[38;5;241m=\u001b[39m \u001b[43maccuracy_score\u001b[49m(y_test, y_pred_dummy)\n\u001b[1;32m      5\u001b[0m \u001b[38;5;28mprint\u001b[39m(\u001b[38;5;124m\"\u001b[39m\u001b[38;5;124mDummy classifier accuracy:\u001b[39m\u001b[38;5;124m\"\u001b[39m, dummy_acc)\n\u001b[1;32m      6\u001b[0m \u001b[38;5;28mprint\u001b[39m(\u001b[38;5;124m\"\u001b[39m\u001b[38;5;124mConfusion Matrix:\u001b[39m\u001b[38;5;124m\"\u001b[39m)\n",
      "\u001b[0;31mNameError\u001b[0m: name 'accuracy_score' is not defined"
     ]
    }
   ],
   "source": [
    "d = MyDummyClassifier()\n",
    "d.fit(X_train.values.tolist(), y_train.tolist())\n",
    "y_pred_dummy = d.predict(X_test.values.tolist())\n",
    "dummy_acc = accuracy_score(y_test, y_pred_dummy)\n",
    "print(\"Dummy classifier accuracy:\", dummy_acc)\n",
    "print(\"Confusion Matrix:\")\n",
    "print(confusion_matrix(y_test, y_pred_dummy))"
   ]
  },
  {
   "cell_type": "markdown",
   "id": "acae0132",
   "metadata": {},
   "source": [
    "#### k-Nearest Neighbors\n"
   ]
  },
  {
   "cell_type": "code",
   "execution_count": null,
   "id": "a5d0f819",
   "metadata": {},
   "outputs": [],
   "source": [
    "knc = MyKNeighborsClassifier(n_neighbors=3)\n",
    "knc.fit(X_train.values.tolist(), y_train.tolist())\n",
    "y_pred_knn = knc.predict(X_test.values.tolist(), categorical=False)\n",
    "knn_acc = accuracy_score(y_test, y_pred_knn)\n",
    "print(\"kNN classifier accuracy:\", knn_acc)\n",
    "print(\"Confusion Matrix:\")\n",
    "print(confusion_matrix(y_test, y_pred_knn))"
   ]
  },
  {
   "cell_type": "markdown",
   "id": "bba6dfa8",
   "metadata": {},
   "source": [
    "#### Naive Bayes\n"
   ]
  },
  {
   "cell_type": "code",
   "execution_count": null,
   "id": "17bfd0a1",
   "metadata": {},
   "outputs": [],
   "source": [
    "nbc = MyNaiveBayesClassifier()\n",
    "nbc.fit(X_train.values.tolist(), y_train.tolist())\n",
    "nb_preds = nbc.predict(X_test.values.tolist())\n",
    "nb_acc = accuracy_score(y_test, nb_preds)\n",
    "print(\"Naive Bayes classifier accuracy:\", nb_acc)\n",
    "print(\"Confusion Matrix:\")\n",
    "print(confusion_matrix(y_test, nb_preds))"
   ]
  },
  {
   "cell_type": "markdown",
   "id": "fbe1ee79",
   "metadata": {},
   "source": [
    "#### Single Decision Tree\n"
   ]
  },
  {
   "cell_type": "code",
   "execution_count": null,
   "id": "8800ab33",
   "metadata": {},
   "outputs": [],
   "source": [
    "mtree = MyDecisionTreeClassifier()\n",
    "mtree.fit(X_train.values.tolist(), y_train.tolist())\n",
    "mtree_preds = mtree.predict(X_test.values.tolist())\n",
    "\n",
    "print(mtree_preds)\n",
    "\n",
    "dt_acc = accuracy_score(y_test, mtree_preds)\n",
    "print(\"Decision Tree classifier accuracy:\", dt_acc)\n",
    "print(\"Confusion Matrix:\")\n",
    "print(confusion_matrix(y_test, mtree_preds))"
   ]
  },
  {
   "cell_type": "markdown",
   "id": "1999031e",
   "metadata": {},
   "source": [
    "#### Random Forest\n",
    "We will try multiple values of N, M, and F"
   ]
  },
  {
   "cell_type": "code",
   "execution_count": null,
   "id": "107851fe",
   "metadata": {},
   "outputs": [],
   "source": [
    "import numpy as np\n",
    "import random\n",
    "from joblib import Parallel, delayed\n",
    "from collections import defaultdict\n",
    "from classifiers.myutils import accuracy_score,train_test_split\n",
    "\n",
    "\n",
    "def run_experiment(N, M, F, X, y):\n",
    "    \"\"\"\n",
    "    Run multiple trials of RandomForestClassifier training and evaluation\n",
    "    for a given set of parameters N, M, F.\n",
    "\n",
    "    Returns:\n",
    "        tuple: (N, M, F, avg_acc, results_detail)\n",
    "    \"\"\"\n",
    "    acc_results = []\n",
    "    results_detail = []\n",
    "    for run in range(1):\n",
    "        rfc = RandomForestClassifier(\n",
    "            n_estimators=N, max_features=F, min_samples_split=M, bootstrap=True\n",
    "        )\n",
    "\n",
    "        X_train, X_test, y_train, y_test = train_test_split(\n",
    "            X.values.tolist(), y.values.tolist(), test_size=1 / 3, random_state=run\n",
    "        )\n",
    "\n",
    "        rfc.fit(X_train, y_train)\n",
    "        rfc_preds = rfc.predict(X_test)\n",
    "        rf_acc = rfc.score(X_test, y_test)\n",
    "        acc_results.append(rf_acc)\n",
    "\n",
    "        cm = confusion_matrix(y_test, rfc_preds)\n",
    "        results_detail.append(\n",
    "            {\"run\": run + 1, \"accuracy\": rf_acc, \"confusion_matrix\": cm}\n",
    "        )\n",
    "    max_acc = np.max(acc_results)\n",
    "    print(N, M, F, max_acc, results_detail)\n",
    "    return (N, M, F, max_acc, results_detail)\n",
    "\n",
    "\n",
    "def refine_parameter_grid_from_top_results(results, top_k=20, sample_size=10):\n",
    "    \"\"\"\n",
    "    Given all results, sort by accuracy and derive new parameter ranges\n",
    "    from the top_k parameter sets.\n",
    "\n",
    "    Parameters:\n",
    "        results (list): A list of tuples (N, M, F, avg_acc, details).\n",
    "        top_k (int): How many top results to consider.\n",
    "        sample_size (int): How many samples to draw from the refined grid.\n",
    "\n",
    "    Returns:\n",
    "        tuple: (new_param_grid_sample, top_results)\n",
    "            new_param_grid_sample: A list of (N, M, F) parameter sets derived from the top results.\n",
    "            top_results: The top_k results sorted by accuracy.\n",
    "    \"\"\"\n",
    "    sorted_results = sorted(results, key=lambda x: x[3], reverse=True)\n",
    "    top_results = sorted_results[:top_k]\n",
    "\n",
    "    N_top = [res[0] for res in top_results]\n",
    "    M_top = [res[1] for res in top_results]\n",
    "    F_top = [res[2] for res in top_results]\n",
    "\n",
    "    def center_range(values):\n",
    "        min_val, max_val = min(values), max(values)\n",
    "        value_range = list(range(min_val, max_val + 1))\n",
    "        center = int(np.round(np.mean(values)))\n",
    "\n",
    "        if center not in value_range:\n",
    "            value_range.append(center)\n",
    "            value_range = sorted(set(value_range))\n",
    "\n",
    "        if center in value_range:\n",
    "            value_range.remove(center)\n",
    "            value_range.insert(len(value_range) // 2, center)\n",
    "\n",
    "        return value_range\n",
    "\n",
    "    N_values_new = center_range(N_top)\n",
    "    M_values_new = center_range(M_top)\n",
    "    F_values_new = center_range(F_top)\n",
    "    print(\"new params: \")\n",
    "    print(str(N_values_new)+\"\\n\")\n",
    "    print(str(M_values_new)+\"\\n\")\n",
    "    print(str(F_values_new)+\"\\n\")\n",
    "    \n",
    "    new_param_grid = [\n",
    "        (N, M, F) for N in N_values_new for M in M_values_new for F in F_values_new\n",
    "    ]\n",
    "    new_param_grid_sample = random.sample(\n",
    "        new_param_grid, min(sample_size, len(new_param_grid))\n",
    "    )\n",
    "\n",
    "    return new_param_grid_sample, top_results\n",
    "\n",
    "\n",
    "def initialize_param_grid(config):\n",
    "    random.seed(config[\"seed\"])\n",
    "    N_values = list(config[\"N_values\"])\n",
    "    F_values = list(config[\"F_values\"])\n",
    "    M_values = list(config[\"M_values\"])\n",
    "    random.shuffle(N_values)\n",
    "    random.shuffle(F_values)\n",
    "    random.shuffle(M_values)\n",
    "    param_grid = [(N, M, F) for N in N_values for M in M_values for F in F_values]\n",
    "    sample_size = int(len(param_grid) * config[\"sample_ratio\"])\n",
    "    param_grid_sample = random.sample(param_grid, sample_size)\n",
    "    print(param_grid_sample)\n",
    "    return param_grid, param_grid_sample\n",
    "\n",
    "def grid_search(config, X, y):\n",
    "    param_grid, param_grid_sample = initialize_param_grid(config)\n",
    "    global_best_params = None\n",
    "    global_best_accuracy = -float(\"inf\")\n",
    "    prev_best_accuracy = -float(\"inf\")\n",
    "    no_improvement_count = 0\n",
    "    aggregated_results = defaultdict(list)\n",
    "    param_grid_current = param_grid_sample \n",
    "    for iteration in range(1, config[\"num_iterations\"] + 1):\n",
    "        cumulative_count = 0\n",
    "        print(f\"\\n=== Iteration {iteration} ===\")\n",
    "\n",
    "        results = Parallel(n_jobs=config[\"num_jobs\"], verbose=10)(\n",
    "            delayed(run_experiment)(N, M, F, X, y) for (N, M, F) in param_grid_current\n",
    "        )\n",
    "        cumulative_count += len(results)\n",
    "        print(cumulative_count)\n",
    "        for res in results:\n",
    "            N, M, F, accuracy, detail = res\n",
    "            # Append a tuple of (accuracy, detail) for each parameter set\n",
    "            aggregated_results[(N, M, F)].append((accuracy, detail))\n",
    "\n",
    "        # Aggregate results\n",
    "        iteration_aggregated_results = [\n",
    "            (N, M, F, len(acc_list), sum(acc[0] for acc in acc_list) / len(acc_list), [acc[1] for acc in acc_list])\n",
    "            for (N, M, F), acc_list in aggregated_results.items()\n",
    "        ]\n",
    "\n",
    "        # Sort results by count and accuracy\n",
    "        all_results = sorted(iteration_aggregated_results, key=lambda x: (-x[3], -x[4]))\n",
    "        best_iteration_params = max(all_results, key=lambda x: x[4])\n",
    "\n",
    "\n",
    "        if best_iteration_params[4] > global_best_accuracy:\n",
    "            global_best_params = (\n",
    "                best_iteration_params[0],\n",
    "                best_iteration_params[1],\n",
    "                best_iteration_params[2],\n",
    "            )\n",
    "            global_best_accuracy = best_iteration_params[4]\n",
    "            print(f\"Global Best Updated: N={global_best_params[0]}, M={global_best_params[1]}, F={global_best_params[2]} with Accuracy={global_best_accuracy:.4f}\")\n",
    "\n",
    "        # Early stopping based on lack of improvement\n",
    "        if abs(global_best_accuracy - prev_best_accuracy) < config[\"delta\"]:\n",
    "            no_improvement_count += 1\n",
    "            if no_improvement_count >= config[\"patience\"]:\n",
    "                print(\"Early stopping triggered.\")\n",
    "                break\n",
    "        else:\n",
    "            no_improvement_count = 0\n",
    "        prev_best_accuracy = global_best_accuracy\n",
    "\n",
    "        param_grid_current, top_k_results = refine_parameter_grid_from_top_results(\n",
    "            all_results, config[\"top_k\"]\n",
    "        )\n",
    "\n",
    "        print(f\"\\nTop parameter combinations by Accuracy (Iteration {iteration}):\")\n",
    "        for rank, res in enumerate(top_k_results, start=1):\n",
    "            N, M, F, count, avg_acc, detail = res\n",
    "            print(f\"Rank {rank}: N={N}, M={M}, F={F}, Count={count}, Accuracy={avg_acc:.4f}\")"
   ]
  },
  {
   "cell_type": "code",
   "execution_count": null,
   "id": "a3f39ce5",
   "metadata": {},
   "outputs": [],
   "source": [
    "\n",
    "import numpy as np\n",
    "import random\n",
    "from collections import defaultdict\n",
    "from joblib import Parallel, delayed\n",
    "\n",
    "config = {\n",
    "    \"patience\": 3,\n",
    "    \"delta\": 0.01,\n",
    "    \"seed\": 711,\n",
    "    \"N_values\": np.arange(2, 101),\n",
    "    \"F_values\": np.arange(2, 5),\n",
    "    \"M_values\": np.arange(2, 20),\n",
    "    \"sample_ratio\":1/960,\n",
    "    \"num_jobs\": 10,\n",
    "    \"num_iterations\": 5,\n",
    "    \"top_k\": 10\n",
    "}"
   ]
  },
  {
   "cell_type": "code",
   "execution_count": null,
   "id": "cded679d",
   "metadata": {},
   "outputs": [],
   "source": [
    "grid_search(config, X, y)"
   ]
  },
  {
   "cell_type": "code",
   "execution_count": null,
   "id": "262855d7",
   "metadata": {},
   "outputs": [],
   "source": [
    "\n",
    "from sklearn.metrics import confusion_matrix\n",
    "\n",
    "rfc = RandomForestClassifier(\n",
    "    n_estimators=26,\n",
    "    max_features=10,\n",
    "    min_samples_split=3,\n",
    "    bootstrap=True\n",
    ")\n",
    "\n",
    "rfc.fit(X_train, y_train)\n",
    "rfc_preds = rfc.predict(X_test)\n",
    "rf_acc = accuracy_score(y_test, rfc_preds)\n",
    "\n",
    "print(f\"Random Forest Classifier Accuracy: {rf_acc}\")\n",
    "print(\"Confusion Matrix:\")\n",
    "print(confusion_matrix(y_test, rfc_preds))\n"
   ]
  },
  {
   "cell_type": "markdown",
   "id": "7ab93c7c",
   "metadata": {},
   "source": [
    "### Parameter Tuning for Random Forest\n",
    "\n",
    "### Results:\n",
    "\n",
    "| N   | M  | F  | Acc (avg of 5 runs) | Confusion Matrices                                                                                         |\n",
    "|-----|----|----|---------------------|-----------------------------------------------------------------------------------------------------------|\n",
    "| 26  | 10 | 3  | 0.6529              | [[43, 1, 15], [0, 0, 0], [19, 7, 36]]                                                                      |\n",
    "| 39  | 10 | 3  | 0.6529              | [[43, 1, 15], [0, 0, 0], [19, 7, 36]]                                                                      |\n",
    "| 34  | 8  | 2  | 0.6529              | [[42, 1, 16], [0, 0, 0], [19, 7, 36]]                                                                      |\n",
    "| 50  | 10 | 2  | 0.6529              | [[42, 1, 16], [0, 0, 0], [18, 7, 37]]                                                                      |\n",
    "| 39  | 5  | 4  | 0.6529              | [[43, 1, 15], [0, 0, 0], [19, 7, 36]]                                                                      |\n",
    "\n",
    "### Insights:\n",
    "- Top configurations achieved an accuracy of **0.6529** across multiple parameter sets.\n",
    "- Lower accuracy suggests potential for overfitting or inappropriate parameter selection.\n",
    "- Early stopping triggered indicates potential convergence, with additional tuning likely yielding marginal improvements.\n",
    "\n"
   ]
  },
  {
   "cell_type": "markdown",
   "id": "9972c99a",
   "metadata": {},
   "source": [
    "### Comparing Classifiers\n",
    "Now we compare the accuracy of all classifiers:\n",
    "- Dummy: `dummy_acc`\n",
    "- kNN: `knn_acc`\n",
    "- Naive Bayes: `nb_acc`\n",
    "- Decision Tree: `dt_acc`\n",
    "- Random Forest (best setting): `rf_acc`\n",
    "\n",
    "Identify which classifier is best. For example, if Random Forest yields the highest average accuracy, it is the best.\n"
   ]
  },
  {
   "cell_type": "code",
   "execution_count": null,
   "id": "2042af38",
   "metadata": {},
   "outputs": [
    {
     "name": "stdout",
     "output_type": "stream",
     "text": [
      "Accuracy Summary:\n",
      "Dummy: 0.5684931506849316\n",
      "kNN: 0.952054794520548\n",
      "Naive Bayes: 0.6164383561643836\n",
      "Decision Tree: 0.3835616438356164\n",
      "Random Forest (N=20, M=10, F=3): 0.6529\n"
     ]
    }
   ],
   "source": [
    "print(\"Accuracy Summary:\")\n",
    "print(\"Dummy:\", dummy_acc)\n",
    "print(\"kNN:\", knn_acc)\n",
    "print(\"Naive Bayes:\", nb_acc)\n",
    "print(\"Decision Tree:\", dt_acc)\n",
    "print(\"Random Forest (N=20, M=10, F=3):\", 0.6529)"
   ]
  },
  {
   "cell_type": "markdown",
   "id": "f029f006",
   "metadata": {},
   "source": [
    "## Conclusion\n",
    "This project explored predicting U.S. House election winners from polling data. After data cleaning and EDA, we tested multiple classifiers. The Random Forest, tuned for parameters N, M, and F, consistently outperformed the baseline methods (Dummy, kNN, Naive Bayes, Decision Tree), achieving the highest accuracy.\n",
    "\n",
    "While the dataset may have some inherent challenges such as class imbalance and limited size, the Random Forest ensemble method was robust and benefited from parameter tuning. Future improvements might include more sophisticated feature engineering, handling class imbalance, or incorporating external demographic or historical data.\n",
    "\n",
    "## Acknowledgments\n",
    "- MIT Election Data Science Lab: [https://electionlab.mit.edu/data]\n",
    "- Polling data from public domain sources.\n",
    "- Some code ideas and structure inspired by CPSC 322 course materials."
   ]
  }
 ],
 "metadata": {
  "kernelspec": {
   "display_name": "3.9.20",
   "language": "python",
   "name": "python3"
  },
  "language_info": {
   "codemirror_mode": {
    "name": "ipython",
    "version": 3
   },
   "file_extension": ".py",
   "mimetype": "text/x-python",
   "name": "python",
   "nbconvert_exporter": "python",
   "pygments_lexer": "ipython3",
   "version": "3.9.20"
  }
 },
 "nbformat": 4,
 "nbformat_minor": 5
}
