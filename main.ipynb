{
 "cells": [
  {
   "cell_type": "markdown",
   "metadata": {},
   "source": [
    "# Project Proposal and Technical Report\n",
    "## CPSC 322, Fall 2024\n",
    "### Team: Matt S && Ryan St. Mary\n",
    "\n",
    "### Project Title: PJames Predicting U.S. House Election Winners\n",
    "\n",
    "## Introduction\n",
    "In this project, we aim to predict the winners of U.S. House elections based on polling data and past election results. We have chosen a dataset that merges U.S. House polling data with actual election outcomes for recent years (2018–2022). The classification task is to predict the political party of the winning candidate (e.g., Democrat, Republican) based on attributes from aggregated polls and historical election data.\n",
    "\n",
    "We will be performing multiple preprocessing steps, exploratory data analysis (EDA), and comparing at least three different classifiers (including a random forest classifier, a kNN classifier, a Naive Bayes classifier, and a decision tree classifier for baseline comparison). The random forest classifier will be implemented as described in the project instructions. Finally, we will deploy a Flask web app that uses our best performing model.\n",
    "\n",
    "Our analysis will include feature selection and hyperparameter tuning. We will explore N, M, and F parameters for random forests and attempt to find a configuration that leads to improved predictive accuracy.\n",
    "\n",
    "## Dataset Description\n",
    "### Source\n",
    "The dataset is derived from publicly available U.S. House election data and polling data. The election results data is sourced from the MIT Election Lab ([https://electionlab.mit.edu/data]) which provides comprehensive historical U.S. election data, while the polling data was compiled from publicly available polling sources and merged into a CSV by a previous data collection step. The combined dataset consists of:\n",
    "- `1976-2022-house.csv` (full historical data)\n",
    "- `2018-2022-house.csv` (recent years election data)\n",
    "- `house_polls_merged.csv` (polling data for U.S. House races)\n",
    "\n",
    "We have merged these files to create `joined_polls_elections.csv`, which combines polling metrics and election results for various state/district/year combinations.\n",
    "\n",
    "### Data Format\n",
    "The data is in CSV format. The final merged dataset `joined_polls_elections.csv` includes attributes such as:\n",
    "- `year`: Election year.\n",
    "- `state`: State abbreviation.\n",
    "- `district`: Congressional district number.\n",
    "- `c1`, `c2`: Top two candidates in a race.\n",
    "- `c1_party`, `c2_party`: Political parties of these candidates.\n",
    "- `c1_pct`, `c2_pct`: Polling percentages for the top two candidates.\n",
    "- `winner`, `winner_party`: Actual election winner and their party.\n",
    "\n",
    "We will use `winner_party` as the class label to predict. Attributes like `c1_pct`, `c2_pct`, `c1_party`, `c2_party`, and other features from the polls and elections data will serve as input features.\n",
    "\n",
    "## Implementation / Technical Merit\n",
    "- **MyDummyClassifier**: A baseline classifier that always predicts the majority class.\n",
    "- **MyKNeighborsClassifier**: A custom k-Nearest Neighbors classifier.\n",
    "- **MyNaiveBayesClassifier**: A custom Naive Bayes classifier.\n",
    "- **MyRandomForestClassifier**: A custom Random Forest classifier implemented using test-driven development, following the specifications provided. This classifier will involve:\n",
    "\n",
    "### Potential Impact of Results\n",
    "These results could be useful for political analysts, campaign strategists, and researchers interested in understanding how polling data relates to actual election outcomes. Stakeholders may include political parties, non-partisan election analysts, the media, and voters.\n",
    "\n",
    "### Citations\n",
    "- MIT Election Data Lab: [https://electionlab.mit.edu/data]\n",
    "- Polling data sources aggregated from public domain polling results.\n",
    "- Code and classifiers inspired by course materials and standard Python libraries.\n",
    "  Any additional code or data taken from external sources will be properly cited in final submission.\n"
   ]
  },
  {
   "cell_type": "markdown",
   "metadata": {},
   "source": [
    "## Data Loading and Initial Exploration"
   ]
  },
  {
   "cell_type": "code",
   "execution_count": null,
   "metadata": {},
   "outputs": [],
   "source": [
    "# Cell: Import Libraries and Load Initial Data\n",
    "import pandas as pd\n",
    "import matplotlib.pyplot as plt\n",
    "\n",
    "# Load polls and elections data\n",
    "polls = pd.read_csv('data/house_polls_merged.csv')\n",
    "elections = pd.read_csv('data/1976-2022-house.csv')\n",
    "\n",
    "print(\"Polls Data Columns:\", polls.columns.tolist())\n",
    "print(\"Elections Data Columns:\", elections.columns.tolist())"
   ]
  },
  {
   "cell_type": "markdown",
   "metadata": {},
   "source": [
    "## Processing Election Data (2018-2022)"
   ]
  },
  {
   "cell_type": "code",
   "execution_count": null,
   "metadata": {},
   "outputs": [],
   "source": [
    "# Cell: Load and Prepare Elections Data (2018-2022)\n",
    "elections_2018_2022 = pd.read_csv('data/2018-2022-house.csv')\n",
    "elections_2018_2022.reset_index(drop=True, inplace=True)\n",
    "\n",
    "election_groupby = elections_2018_2022.groupby(['year', 'state', 'district'])\n",
    "print(f\"Total Groups: {len(election_groupby)}\")"
   ]
  },
  {
   "cell_type": "markdown",
   "metadata": {},
   "source": [
    "Check unique stages in the elections data."
   ]
  },
  {
   "cell_type": "code",
   "execution_count": null,
   "metadata": {},
   "outputs": [],
   "source": [
    "print(set(elections_2018_2022['stage']))"
   ]
  },
  {
   "cell_type": "markdown",
   "metadata": {},
   "source": [
    "### Process Elections Data into Structured DataFrame"
   ]
  },
  {
   "cell_type": "code",
   "execution_count": null,
   "metadata": {},
   "outputs": [],
   "source": [
    "election_rows = []\n",
    "for group_key, group_df in election_groupby:\n",
    "    if 'totalvotes' not in group_df.columns:\n",
    "        print(f\"Missing 'totalvotes' in group: {group_key}\")\n",
    "        continue\n",
    "    sorted_group = group_df.sort_values(by='candidatevotes', ascending=False)\n",
    "    c1 = sorted_group.iloc[0]\n",
    "    c1_name = c1['candidate']\n",
    "    c1_party = c1['party']\n",
    "    c1_votes = c1['candidatevotes']\n",
    "    if len(sorted_group) > 1:\n",
    "        c2 = sorted_group.iloc[1]\n",
    "        c2_name = c2['candidate']\n",
    "        c2_party = c2['party']\n",
    "        c2_votes = c2['candidatevotes']\n",
    "    else:\n",
    "        c2_name, c2_party, c2_votes = None, None, None\n",
    "    winner = c1_name\n",
    "    winner_party = c1_party\n",
    "    election_rows.append([\n",
    "        group_key[0], group_key[1], group_key[2],\n",
    "        c1_name, c2_name, c1_party, c2_party, c1_votes, c2_votes, winner, winner_party\n",
    "    ])\n",
    "\n",
    "election_df = pd.DataFrame(\n",
    "    election_rows,\n",
    "    columns=[\n",
    "        'year', 'state', 'district', 'c1', 'c2', 'c1_party', 'c2_party',\n",
    "        'c1_votes', 'c2_votes', 'winner', 'winner_party'\n",
    "    ]\n",
    ")\n",
    "print(\"Elections DataFrame Preview:\")\n",
    "print(election_df.head())\n",
    "election_df.to_csv('data/elections-2018-2022.csv', index=False)\n",
    "print(\"Processed elections data saved to 'data/elections-2018-2022.csv'\")"
   ]
  },
  {
   "cell_type": "markdown",
   "metadata": {},
   "source": [
    "Ensure the CSV is written."
   ]
  },
  {
   "cell_type": "code",
   "execution_count": null,
   "metadata": {},
   "outputs": [],
   "source": [
    "election_df.to_csv('data/elections-2018-2022.csv', index=False)"
   ]
  },
  {
   "cell_type": "markdown",
   "metadata": {},
   "source": [
    "## Processing Polls Data"
   ]
  },
  {
   "cell_type": "code",
   "execution_count": null,
   "metadata": {},
   "outputs": [],
   "source": [
    "polls = pd.read_csv('data/house_polls_merged.csv')\n",
    "polls['candidate_name'] = polls['candidate_name'].apply(lambda x: x.upper())\n",
    "polls['state'] = polls['state'].apply(lambda x: x.upper())\n",
    "\n",
    "groupby = polls.groupby(['state', 'seat_number', 'cycle', 'poll_id'])\n",
    "groups = list(groupby)\n",
    "\n",
    "poll_df = pd.DataFrame(columns=['year', 'state', 'district', 'c1', 'c2', 'c1_party', 'c2_party', 'c1_pct', 'c2_pct'])\n",
    "elections_done = []\n",
    "\n",
    "for group in groups:\n",
    "    if(list(group[0][:3]) not in elections_done):\n",
    "      df = group[1]\n",
    "      c1_idx = df['pct'].idxmax()\n",
    "      c1 = df['candidate_name'][c1_idx]\n",
    "      c1_party = df['party'][c1_idx]\n",
    "      c1_pct = df['pct'][c1_idx]\n",
    "\n",
    "      df = df.drop(index=c1_idx)\n",
    "      try:\n",
    "          c2_idx = df['pct'].idxmax()\n",
    "          c2 = df['candidate_name'][c2_idx]\n",
    "          c2_party = df['party'][c2_idx]\n",
    "          c2_pct = df['pct'][c2_idx]\n",
    "      except:\n",
    "          c2, c2_party, c2_pct = None, None, None\n",
    "\n",
    "      new_row = [group[0][2], group[0][0], group[0][1], c1, c2, c1_party, c2_party, c1_pct, c2_pct]\n",
    "      poll_df.loc[len(poll_df)] = new_row\n",
    "      elections_done.append(list(group[0][:3]))\n"
   ]
  },
  {
   "cell_type": "markdown",
   "metadata": {},
   "source": [
    "Check how many unique sets we processed and the length of poll_df."
   ]
  },
  {
   "cell_type": "code",
   "execution_count": null,
   "metadata": {},
   "outputs": [],
   "source": [
    "print(elections_done)\n",
    "print(len(poll_df))"
   ]
  },
  {
   "cell_type": "markdown",
   "metadata": {},
   "source": [
    "Check columns of poll_df and election_df."
   ]
  },
  {
   "cell_type": "code",
   "execution_count": null,
   "metadata": {},
   "outputs": [],
   "source": [
    "print(poll_df.columns)\n",
    "print(election_df.columns)\n",
    "print(len(poll_df.values))"
   ]
  },
  {
   "cell_type": "markdown",
   "metadata": {},
   "source": [
    "## Merging Polls and Elections Data"
   ]
  },
  {
   "cell_type": "code",
   "execution_count": null,
   "metadata": {},
   "outputs": [],
   "source": [
    "print(len(election_df))\n",
    "print(len(poll_df))\n",
    "\n",
    "joined_df = pd.merge(election_df, poll_df, on=['year', 'state', 'district'], how='inner')\n",
    "print(len(joined_df.values))\n",
    "\n",
    "joined_df.to_csv('data/joined_polls_elections.csv', index=False)\n",
    "print(\"Joined polls and elections data saved to 'data/joined_polls_elections.csv'\")\n",
    "\n",
    "joined_df['winner_party'].value_counts().plot(kind='bar', title='Winner Party Distribution')\n",
    "plt.tight_layout()\n",
    "plt.show()"
   ]
  },
  {
   "cell_type": "markdown",
   "metadata": {},
   "source": [
    "## Exploratory Data Analysis (EDA)\n",
    "Perform initial EDA here (e.g., summary statistics, distributions). More complex EDA and visualizations can be added.\n"
   ]
  },
  {
   "cell_type": "code",
   "execution_count": null,
   "metadata": {},
   "outputs": [],
   "source": [
    "# Summary statistics of joined data\n",
    "print(joined_df.describe(include='all'))"
   ]
  },
  {
   "cell_type": "markdown",
   "metadata": {},
   "source": [
    "## Classifier Implementations and Evaluations\n",
    "We will import our custom classifiers and evaluate them on the dataset."
   ]
  },
  {
   "cell_type": "code",
   "execution_count": null,
   "metadata": {},
   "outputs": [],
   "source": [
    "from classifiers.myclassifiers import MyKNeighborsClassifier as knn\n",
    "from classifiers.myclassifiers import MyNaiveBayesClassifier as bayes\n",
    "from classifiers.myclassifiers import MyDummyClassifier as dummy\n",
    "from classifiers.myclassifiers import DecisionTreeClassifier, RandomForestClassifier\n",
    "\n",
    "import numpy as np\n",
    "\n",
    "from sklearn.metrics import accuracy_score\n",
    "from sklearn.model_selection import train_test_split\n",
    "import pandas as pd\n",
    "\n",
    "# Load and preprocess data\n",
    "data = pd.read_csv(\"data/joined_polls_elections.csv\")\n",
    "y = data['winner_party'].apply(lambda x: 'DEMOCRAT' if x == 'DEMOCRATIC-FARMER-LABOR' else x)\n",
    "X = data.drop('winner_party', axis=1)\n",
    "\n",
    "# Convert categorical features if present\n",
    "for col in ['c1_party_x', 'c2_party_x']:\n",
    "    if col in X.columns:\n",
    "        X[col] = X[col].astype('category').cat.codes\n",
    "\n",
    "selected_features = ['c1_pct', 'c2_pct']\n",
    "if 'c1_party_x' in X.columns:\n",
    "    selected_features.append('c1_party_x')\n",
    "if 'c2_party_x' in X.columns:\n",
    "    selected_features.append('c2_party_x')\n",
    "\n",
    "X_sel = X[selected_features]\n",
    "\n",
    "X_train, X_test, y_train, y_test = train_test_split(X_sel, y, test_size=0.4, random_state=42)\n",
    "\n"
   ]
  },
  {
   "cell_type": "code",
   "execution_count": null,
   "metadata": {},
   "outputs": [],
   "source": [
    "\n",
    "#####################################\n",
    "# Dummy Classifier\n",
    "###################################\n",
    "d = dummy()\n",
    "d.fit(X_train.values.tolist(), y_train.tolist())\n",
    "y_pred_dummy = d.predict(X_test.values.tolist())\n",
    "print(\"Dummy classifier accuracy:\", accuracy_score(y_test, y_pred_dummy))"
   ]
  },
  {
   "cell_type": "code",
   "execution_count": null,
   "metadata": {},
   "outputs": [],
   "source": [
    "###################################\n",
    "# K-Nearest Neighbors Classifier\n",
    "###################################\n",
    "# KNN classifier\n",
    "kn = knn()\n",
    "kn.fit(X_train.values.tolist(), y_train.tolist())\n",
    "y_pred_knn = kn.predict(X_test.values.tolist(), categorical=True)\n",
    "print(\"KNN classifier accuracy:\", accuracy_score(y_test, y_pred_knn))"
   ]
  },
  {
   "cell_type": "code",
   "execution_count": null,
   "metadata": {},
   "outputs": [],
   "source": [
    "###################################\n",
    "# Naive Bayes Classifier Example\n",
    "\n",
    "###################################\n",
    "\n",
    "nb = bayes()\n",
    "nb.fit(X_train.values.tolist(), y_train.tolist())\n",
    "\n",
    "nb_preds = nb.predict(X_test.values.tolist())\n",
    "print(\"Naive Bayes classifier accuracy:\", accuracy_score(y_test, nb_preds))"
   ]
  },
  {
   "cell_type": "code",
   "execution_count": null,
   "metadata": {},
   "outputs": [],
   "source": [
    "###################################\n",
    "# Decision Tree Classifier Example\n",
    "\n",
    "###################################\n",
    "\n",
    "print(X_train['c1_pct'][0])\n",
    "\n",
    "  \n",
    "\n",
    "  \n",
    "\n",
    "\n",
    "tree = DecisionTreeClassifier()\n",
    "tree.fit(X_train.values.tolist(), y_train.values.tolist())\n",
    "\n",
    "\n",
    "tree_preds = tree.predict(X_test.values.tolist())\n",
    "print(\"Decision tree classifier accuracy:\", accuracy_score(y_test, y_pred_knn))"
   ]
  },
  {
   "cell_type": "code",
   "execution_count": null,
   "metadata": {},
   "outputs": [],
   "source": [
    "import importlib\n",
    "import classifiers\n",
    "from classifiers.myclassifiers import MyDecisionTreeClassifier\n",
    "importlib.reload(classifiers)\n",
    "mtree = MyDecisionTreeClassifier()\n",
    "\n",
    "\n",
    "\n",
    "# for i in range(len(X_train['c1_pct'])):\n",
    "#   if int(X_train['c1_pct'][i])> 50:\n",
    "#     X_train['c1_pct'][i] = \"OVER\"\n",
    "#   else:\n",
    "#     X_train['c1_pct'][i] = \"UNDER\"\n",
    "\n",
    "#   if(int(X_train['c2_pct'[i]])> 50):\n",
    "#     X_train['c2_pct'][i] = \"OVER\"\n",
    "#   else:\n",
    "#     X_train['c2_pct'][i] = \"UNDER\"\n",
    "\n",
    "#   if int(X_test['c1_pct'][i])> 50:\n",
    "#     X_test['c1_pct'][i] = \"OVER\"\n",
    "#   else:\n",
    "#     X_test['c1_pct'][i] = \"UNDER\"\n",
    "\n",
    "#   if(int(X_test['c2_pct'[i]])> 50):\n",
    "#     X_test['c2_pct'][i] = \"OVER\"\n",
    "#   else:\n",
    "#     X_test['c2_pct'][i] = \"UNDER\"\n",
    "\n",
    "mtree.fit(X_train.values.tolist(), y_train.tolist())\n",
    "\n",
    "mtree_preds = mtree.predict(X_test.values.tolist())\n",
    "print(mtree_preds)\n",
    "print(len(mtree_preds))\n",
    "print(len(y_test))\n",
    "acc = sum([1 for i in range(len(y_test)) if mtree_preds[i] == y_test.tolist()[i] ])/146\n",
    "print(\"Decision tree classifier accuracy:\" +  str(acc))\n"
   ]
  },
  {
   "cell_type": "code",
   "execution_count": null,
   "metadata": {},
   "outputs": [],
   "source": [
    "\n",
    "###################################\n",
    "# Random Forest Classifier\n",
    "\n",
    "###################################\n",
    "\n"
   ]
  },
  {
   "cell_type": "markdown",
   "metadata": {},
   "source": [
    "## Deploying the Best Classifier via Flask\n"
   ]
  },
  {
   "cell_type": "code",
   "execution_count": null,
   "metadata": {},
   "outputs": [],
   "source": [
    "from flask import Flask\n",
    "app = Flask(__name__)\n",
    "\n",
    "@app.route(\"/\")\n",
    "def index():\n",
    "    return \"<h1>Hello!</h1>\"\n",
    "\n",
    "if __name__ == \"__main__\":\n",
    "    app.run()"
   ]
  },
  {
   "cell_type": "markdown",
   "metadata": {},
   "source": [
    "## Conclusion\n",
    "In this notebook, we described our project, loaded and merged the dataset, performed initial exploration, and tested baseline classifiers. In subsequent steps, we will refine our approach, implement the random forest, run parameter tuning, perform EDA with visualizations, and finally deploy a web app.\n",
    "\n",
    "## Acknowledgments\n",
    "- MIT Election Data Science Lab for election datasets: https://electionlab.mit.edu/data\n",
    "- Polling data compiled from public domain sources.\n",
    "- Any external code or libraries beyond standard Python/pandas/matplotlib/sklearn will be cited.\n",
    "\n",
    "All code and approaches for the classifiers (Dummy, KNN, Naive Bayes, Random Forest) are inspired by course materials from CPSC 322, Fall 2024.\n"
   ]
  }
 ],
 "metadata": {
  "kernelspec": {
   "display_name": "base",
   "language": "python",
   "name": "python3"
  },
  "language_info": {
   "codemirror_mode": {
    "name": "ipython",
    "version": 3
   },
   "file_extension": ".py",
   "mimetype": "text/x-python",
   "name": "python",
   "nbconvert_exporter": "python",
   "pygments_lexer": "ipython3",
   "version": "3.11.4"
  }
 },
 "nbformat": 4,
 "nbformat_minor": 2
}
