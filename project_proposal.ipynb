{
 "cells": [
  {
   "cell_type": "markdown",
   "metadata": {},
   "source": [
    "## Predicting Elections Based on Past Elections and Polls\n",
    "\n",
    "Ryan St. Mary  \n",
    "Matt/James shu\n",
    "\n",
    "\n",
    "### Dataset\n",
    "\n",
    "The dataset consists of polling data sourced from projects.fivethirtyeight.com and election results sourced from the MIT election lab.\n"
   ]
  }
 ],
 "metadata": {
  "language_info": {
   "name": "python"
  }
 },
 "nbformat": 4,
 "nbformat_minor": 2
}
