{
 "cells": [
  {
   "cell_type": "markdown",
   "metadata": {},
   "source": [
    "## Predicting Elections Based on Past Elections and Polls\n",
    "\n",
    "Ryan St. Mary  \n",
    "Matt S\n",
    "\n",
    "\n",
    "### Dataset\n",
    "\n",
    "The dataset consists of polling data sourced from projects.fivethirtyeight.com and election results sourced from the MIT election lab.  \n",
    "We plan on training the models on polling data and election results from 2018, 2020, and 2022 as the training data and then attempt to predict the house races in 2024. \n",
    "\n",
    "\n",
    "### Anticipated Challenges\n",
    "\n",
    "Manipulating the data to work nicely with each other and being able to merge/join the datasets could be challenge. We also have to extract the winners of the elections from the election results data which could be difficult.\n",
    "\n",
    "\n",
    "### Potential Impacts of the Results\n",
    "\n",
    "This information could be useful for political parties and canidates who are forming political strategy. It also could be helpful to the media who may like to make prediction and voters who are interested in the elections.\n",
    "\n",
    "\n",
    "\n",
    "https://dataverse.harvard.edu/dataset.xhtml?persistentId=doi:10.7910/DVN/IG0UN2 \n",
    "\n",
    "\n",
    "\n",
    "\n"
   ]
  }
 ],
 "metadata": {
  "language_info": {
   "name": "python"
  }
 },
 "nbformat": 4,
 "nbformat_minor": 2
}
