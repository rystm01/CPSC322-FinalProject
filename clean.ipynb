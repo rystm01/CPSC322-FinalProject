{
 "cells": [
  {
   "cell_type": "code",
   "execution_count": 2,
   "metadata": {},
   "outputs": [],
   "source": [
    "import pandas as pd\n",
    "polls = pd.read_csv('data/house_polls_merged.csv')\n",
    "elections = pd.read_csv('data/1976-2022-house.csv')"
   ]
  },
  {
   "cell_type": "code",
   "execution_count": 3,
   "metadata": {},
   "outputs": [],
   "source": [
    "elections_2018_2022 = pd.read_csv('data/2018-2022-house.csv')\n",
    "elections_2018_2022.index = [i for i in range(len(elections_2018_2022.values))]\n",
    "groupby = elections_2018_2022.groupby(['year', 'state', 'district'])"
   ]
  },
  {
   "cell_type": "code",
   "execution_count": 4,
   "metadata": {},
   "outputs": [
    {
     "name": "stdout",
     "output_type": "stream",
     "text": [
      "{'GEN'}\n"
     ]
    }
   ],
   "source": [
    "print(set(elections_2018_2022['stage']))"
   ]
  },
  {
   "cell_type": "code",
   "execution_count": 5,
   "metadata": {},
   "outputs": [],
   "source": [
    "\n",
    "election_df = pd.DataFrame(columns=['year', 'state', 'district', 'c1', 'c2', 'c1_party', 'c2_party', 'c1_votes', 'c2_votes', 'winner', 'winner_party'])\n",
    "\n",
    "# print(election_df.shape)\n",
    "groups = list(groupby)\n",
    "\n",
    "\n",
    "\n",
    "\n",
    "# election key: {year, state, district}\n",
    "# group is tuple of (election key, DF with canidate instances)\n",
    "# print(groups[0][1].columns)\n",
    "for group in groups:\n",
    "    df = group[1]\n",
    "    c1_idx = df['totalvotes'].idxmax()\n",
    "    c1 = df['candidate'][c1_idx]\n",
    "    c1_party = df['party'][c1_idx]\n",
    "    c1_votes = df['totalvotes'][c1_idx]\n",
    "\n",
    "    df = df.drop(index=c1_idx)\n",
    "    try:\n",
    "        c2_idx = df['totalvotes'].idxmax()\n",
    "        c2 = df['candidate'][c2_idx]\n",
    "        c2_party = df['party'][c2_idx]\n",
    "        c2_votes = df['totalvotes'][c2_idx]\n",
    "    except:\n",
    "        c2, c2_party, c2_votes = None, None, None\n",
    "    \n",
    "   \n",
    "    new_row = [group[0][0], group[0][1], group[0][2], c1, c2, c1_party, c2_party, c1_votes, c2_votes, c1, c1_party]\n",
    "    election_df.loc[len(election_df)] = new_row\n",
    "    \n",
    "\n",
    "# print(election_df.columns)\n",
    "# print(election_df.shape)\n",
    "# print(election_df.values[:10])\n",
    "\n"
   ]
  },
  {
   "cell_type": "code",
   "execution_count": 6,
   "metadata": {},
   "outputs": [],
   "source": [
    "\n",
    "election_df.to_csv('data/elections-2018-2022.csv', index=False)"
   ]
  },
  {
   "cell_type": "code",
   "execution_count": 22,
   "metadata": {},
   "outputs": [
    {
     "name": "stdout",
     "output_type": "stream",
     "text": [
      "Index(['poll_id', 'pollster_id', 'pollster', 'sponsor_ids', 'sponsors',\n",
      "       'display_name', 'pollster_rating_id', 'pollster_rating_name',\n",
      "       'numeric_grade', 'pollscore', 'methodology', 'transparency_score',\n",
      "       'state', 'start_date', 'end_date', 'sponsor_candidate_id',\n",
      "       'sponsor_candidate', 'sponsor_candidate_party', 'endorsed_candidate_id',\n",
      "       'endorsed_candidate_name', 'endorsed_candidate_party', 'question_id',\n",
      "       'sample_size', 'population', 'subpopulation', 'population_full',\n",
      "       'tracking', 'created_at', 'notes', 'url', 'url_article', 'url_topline',\n",
      "       'url_crosstab', 'source', 'internal', 'partisan', 'race_id', 'cycle',\n",
      "       'office_type', 'seat_number', 'seat_name', 'election_date', 'stage',\n",
      "       'nationwide_batch', 'ranked_choice_reallocated', 'ranked_choice_round',\n",
      "       'hypothetical', 'party', 'answer', 'candidate_id', 'candidate_name',\n",
      "       'pct'],\n",
      "      dtype='object')\n",
      "('ALABAMA', 2, 2024)\n"
     ]
    }
   ],
   "source": [
    "polls = pd.read_csv('data/house_polls_merged.csv')\n",
    "polls['candidate_name'] = polls['candidate_name'].apply(lambda x: x.upper())\n",
    "polls['state'] = polls['state'].apply(lambda x: x.upper())\n",
    "\n",
    "print(polls.columns)\n",
    "groupby = polls.groupby(['state', 'seat_number', 'cycle'])\n",
    "\n",
    "groups = list(groupby)\n",
    "\n",
    "\n",
    "# atts that good be good (beyond obvious):\n",
    "# poll_id, pollster_id, sponsor_id, pollster_rating_id, pollscore, methodology, transparency score, sample_size, partisan\n",
    "# sample_size\n",
    "\n",
    "poll_df = pd.DataFrame(columns=['state', 'district', 'year', 'c1', 'c2', 'c1_party', 'c2_party', 'c1_pct', 'c2_pct'])\n",
    "\n",
    "\n",
    "print(groups[0][0])\n",
    "for group in groups:\n",
    "    df = group[1]\n",
    "    c1_idx = df['pct'].idxmax()\n",
    "    c1 = df['candidate_name'][c1_idx]\n",
    "    c1_party = df['party'][c1_idx]\n",
    "    c1_pct = df['pct'][c1_idx]\n",
    "\n",
    "    df = df.drop(index=c1_idx)\n",
    "    try:\n",
    "        c2_idx = df['pct'].idxmax()\n",
    "        c2 = df['candidate_name'][c2_idx]\n",
    "        c2_party = df['party'][c2_idx]\n",
    "        c2_pct = df['pct'][c2_idx]\n",
    "    except:\n",
    "        c2, c2_party, c2_votes = None, None, None\n",
    "    \n",
    "   \n",
    "    new_row = [group[0][0], group[0][1], group[0][2], c1, c2, c1_party, c2_party, c1_pct, c2_pct]\n",
    "    poll_df.loc[len(poll_df)] = new_row\n",
    "\n",
    "\n",
    "\n"
   ]
  },
  {
   "cell_type": "code",
   "execution_count": 23,
   "metadata": {},
   "outputs": [
    {
     "name": "stdout",
     "output_type": "stream",
     "text": [
      "484\n",
      "     state  district  year               c1                c2 c1_party  \\\n",
      "0  ALABAMA         2  2024  SHOMARI FIGURES   SHOMARI FIGURES      DEM   \n",
      "1   ALASKA         1  2018        DON YOUNG         DON YOUNG      REP   \n",
      "2   ALASKA         1  2020        DON YOUNG         DON YOUNG      REP   \n",
      "3   ALASKA         1  2022  MARY S. PELTOLA       NICK BEGICH      DEM   \n",
      "4   ALASKA         1  2024      NICK BEGICH   MARY S. PELTOLA      REP   \n",
      "5  ARIZONA         1  2018   TOM O'HALLERAN    TOM O'HALLERAN      DEM   \n",
      "6  ARIZONA         1  2022      JEVIN HODGE  DAVID SCHWEIKERT      DEM   \n",
      "7  ARIZONA         1  2024       AMISH SHAH        AMISH SHAH      DEM   \n",
      "8  ARIZONA         2  2018  ANN KIRKPATRICK   ANN KIRKPATRICK      DEM   \n",
      "9  ARIZONA         2  2022        ELI CRANE    TOM O'HALLERAN      REP   \n",
      "\n",
      "  c2_party  c1_pct  c2_pct  \n",
      "0      DEM    51.0   50.10  \n",
      "1      REP    53.8   49.70  \n",
      "2      REP    49.0   49.00  \n",
      "3      REP    57.6   57.00  \n",
      "4      DEM    52.1   50.00  \n",
      "5      DEM    47.7   46.00  \n",
      "6      REP    47.0   47.00  \n",
      "7      DEM    48.0   48.00  \n",
      "8      DEM    50.3   49.86  \n",
      "9      DEM    45.0   44.00  \n"
     ]
    }
   ],
   "source": [
    "print(len(poll_df.values))\n",
    "print(poll_df[:10])"
   ]
  },
  {
   "cell_type": "code",
   "execution_count": null,
   "metadata": {},
   "outputs": [
    {
     "ename": "SyntaxError",
     "evalue": "invalid syntax. Perhaps you forgot a comma? (1823407235.py, line 1)",
     "output_type": "error",
     "traceback": [
      "\u001b[1;36m  Cell \u001b[1;32mIn[25], line 1\u001b[1;36m\u001b[0m\n\u001b[1;33m    merged_df = election_df.join(poll_df on=['year', 'state', 'district'])\u001b[0m\n\u001b[1;37m                                 ^\u001b[0m\n\u001b[1;31mSyntaxError\u001b[0m\u001b[1;31m:\u001b[0m invalid syntax. Perhaps you forgot a comma?\n"
     ]
    }
   ],
   "source": [
    "merged_df = election_df.join(poll_df, on=['year', 'state', 'district'])"
   ]
  }
 ],
 "metadata": {
  "kernelspec": {
   "display_name": "base",
   "language": "python",
   "name": "python3"
  },
  "language_info": {
   "codemirror_mode": {
    "name": "ipython",
    "version": 3
   },
   "file_extension": ".py",
   "mimetype": "text/x-python",
   "name": "python",
   "nbconvert_exporter": "python",
   "pygments_lexer": "ipython3",
   "version": "3.11.4"
  }
 },
 "nbformat": 4,
 "nbformat_minor": 2
}
