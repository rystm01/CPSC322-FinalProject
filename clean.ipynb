{
 "cells": [
  {
   "cell_type": "code",
   "execution_count": 10,
   "metadata": {},
   "outputs": [
    {
     "name": "stdout",
     "output_type": "stream",
     "text": [
      "Polls Data Columns: ['poll_id', 'pollster_id', 'pollster', 'sponsor_ids', 'sponsors', 'display_name', 'pollster_rating_id', 'pollster_rating_name', 'numeric_grade', 'pollscore', 'methodology', 'transparency_score', 'state', 'start_date', 'end_date', 'sponsor_candidate_id', 'sponsor_candidate', 'sponsor_candidate_party', 'endorsed_candidate_id', 'endorsed_candidate_name', 'endorsed_candidate_party', 'question_id', 'sample_size', 'population', 'subpopulation', 'population_full', 'tracking', 'created_at', 'notes', 'url', 'url_article', 'url_topline', 'url_crosstab', 'source', 'internal', 'partisan', 'race_id', 'cycle', 'office_type', 'seat_number', 'seat_name', 'election_date', 'stage', 'nationwide_batch', 'ranked_choice_reallocated', 'ranked_choice_round', 'hypothetical', 'party', 'answer', 'candidate_id', 'candidate_name', 'pct']\n",
      "Elections Data Columns: ['year', 'state', 'state_po', 'state_fips', 'state_cen', 'state_ic', 'office', 'district', 'stage', 'runoff', 'special', 'candidate', 'party', 'writein', 'mode', 'candidatevotes', 'totalvotes', 'unofficial', 'version', 'fusion_ticket']\n"
     ]
    }
   ],
   "source": [
    "# Cell 1: Import Libraries and Load Initial Data\n",
    "\n",
    "import pandas as pd\n",
    "import matplotlib.pyplot as plt\n",
    "\n",
    "# Load polls and elections data\n",
    "polls = pd.read_csv('data/house_polls_merged.csv')\n",
    "elections = pd.read_csv('data/1976-2022-house.csv')\n",
    "\n",
    "# Display initial information\n",
    "print(\"Polls Data Columns:\", polls.columns.tolist())\n",
    "print(\"Elections Data Columns:\", elections.columns.tolist())\n"
   ]
  },
  {
   "cell_type": "code",
   "execution_count": 11,
   "metadata": {},
   "outputs": [
    {
     "name": "stdout",
     "output_type": "stream",
     "text": [
      "Total Groups: 1306\n"
     ]
    }
   ],
   "source": [
    "# Cell 2: Load and Prepare Elections Data (2018-2022)\n",
    "\n",
    "# Load elections data for 2018-2022\n",
    "elections_2018_2022 = pd.read_csv('data/2018-2022-house.csv')\n",
    "\n",
    "# Reset index for clean integer indexing\n",
    "elections_2018_2022.reset_index(drop=True, inplace=True)\n",
    "\n",
    "# Group elections by year, state, and district\n",
    "election_groupby = elections_2018_2022.groupby(['year', 'state', 'district'])\n",
    "\n",
    "# Display group information\n",
    "print(f\"Total Groups: {len(election_groupby)}\")\n"
   ]
  },
  {
   "cell_type": "code",
   "execution_count": 12,
   "metadata": {},
   "outputs": [
    {
     "name": "stdout",
     "output_type": "stream",
     "text": [
      "{'GEN'}\n"
     ]
    }
   ],
   "source": [
    "print(set(elections_2018_2022['stage']))"
   ]
  },
  {
   "cell_type": "code",
   "execution_count": null,
   "metadata": {},
   "outputs": [
    {
     "name": "stdout",
     "output_type": "stream",
     "text": [
      "Elections DataFrame Preview:\n",
      "   year    state  district               c1                 c2    c1_party  \\\n",
      "0  2018  ALABAMA         1    BRADLEY BYRNE  ROBERT KENNEDY JR  REPUBLICAN   \n",
      "1  2018  ALABAMA         2      MARTHA ROBY      TABITHA ISNER  REPUBLICAN   \n",
      "2  2018  ALABAMA         3      MIKE ROGERS      MALLORY HAGAN  REPUBLICAN   \n",
      "3  2018  ALABAMA         4  ROBERT ADERHOLT          LEE AUMAN  REPUBLICAN   \n",
      "4  2018  ALABAMA         5        MO BROOKS     PETER JOFFRION  REPUBLICAN   \n",
      "\n",
      "   c2_party  c1_votes  c2_votes           winner winner_party  \n",
      "0  DEMOCRAT    153228   89226.0    BRADLEY BYRNE   REPUBLICAN  \n",
      "1  DEMOCRAT    138879   86931.0      MARTHA ROBY   REPUBLICAN  \n",
      "2  DEMOCRAT    147770   83996.0      MIKE ROGERS   REPUBLICAN  \n",
      "3  DEMOCRAT    184255   46492.0  ROBERT ADERHOLT   REPUBLICAN  \n",
      "4  DEMOCRAT    159063  101388.0        MO BROOKS   REPUBLICAN  \n",
      "Processed elections data saved to 'data/elections-2018-2022.csv'\n"
     ]
    }
   ],
   "source": [
    "# Cell 4: Process Elections Data into Structured DataFrame\n",
    "\n",
    "# Initialize a list to collect election rows\n",
    "election_rows = []\n",
    "\n",
    "# Iterate through each group to extract top two candidates\n",
    "for group_key, group_df in election_groupby:\n",
    "    # Ensure 'totalvotes' column exists\n",
    "    # print(group_df)\n",
    "\n",
    "    # Sort candidates by candidatevotes in descending order\n",
    "    sorted_group = group_df.sort_values(by='candidatevotes', ascending=False)\n",
    "    \n",
    "    # Extract top candidate (c1)\n",
    "    c1 = sorted_group.iloc[0]\n",
    "    c1_name = c1['candidate']\n",
    "    c1_party = c1['party']\n",
    "    c1_votes = c1['candidatevotes']\n",
    "    \n",
    "    # Extract second candidate (c2) if exists\n",
    "    if len(sorted_group) > 1:\n",
    "        c2 = sorted_group.iloc[1]\n",
    "        c2_name = c2['candidate']\n",
    "        c2_party = c2['party']\n",
    "        c2_votes = c2['candidatevotes']\n",
    "    else:\n",
    "        c2_name, c2_party, c2_votes = None, None, None\n",
    "    \n",
    "    # Determine winner\n",
    "    winner = c1_name\n",
    "    winner_party = c1_party\n",
    "    \n",
    "    # Append the row to the list\n",
    "    election_rows.append([\n",
    "        group_key[0],  # year\n",
    "        group_key[1],  # state\n",
    "        group_key[2],  # district\n",
    "        c1_name,\n",
    "        c2_name,\n",
    "        c1_party,\n",
    "        c2_party,\n",
    "        c1_votes,\n",
    "        c2_votes,\n",
    "        winner,\n",
    "        winner_party\n",
    "    ])\n",
    "\n",
    "# Create the elections DataFrame from the collected rows\n",
    "election_df = pd.DataFrame(\n",
    "    election_rows,\n",
    "    columns=[\n",
    "        'year', 'state', 'district',\n",
    "        'c1', 'c2', 'c1_party', 'c2_party',\n",
    "        'c1_votes', 'c2_votes',\n",
    "        'winner', 'winner_party'\n",
    "    ]\n",
    ")\n",
    "\n",
    "# Display the first few rows\n",
    "print(\"Elections DataFrame Preview:\")\n",
    "print(election_df.head())\n",
    "\n",
    "# Save the processed elections data to CSV\n",
    "election_df.to_csv('data/elections-2018-2022.csv', index=False)\n",
    "print(\"Processed elections data saved to 'data/elections-2018-2022.csv'\")\n"
   ]
  },
  {
   "cell_type": "code",
   "execution_count": 14,
   "metadata": {},
   "outputs": [],
   "source": [
    "\n",
    "election_df.to_csv('data/elections-2018-2022.csv', index=False)"
   ]
  },
  {
   "cell_type": "code",
   "execution_count": 15,
   "metadata": {},
   "outputs": [
    {
     "name": "stdout",
     "output_type": "stream",
     "text": [
      "Index(['poll_id', 'pollster_id', 'pollster', 'sponsor_ids', 'sponsors',\n",
      "       'display_name', 'pollster_rating_id', 'pollster_rating_name',\n",
      "       'numeric_grade', 'pollscore', 'methodology', 'transparency_score',\n",
      "       'state', 'start_date', 'end_date', 'sponsor_candidate_id',\n",
      "       'sponsor_candidate', 'sponsor_candidate_party', 'endorsed_candidate_id',\n",
      "       'endorsed_candidate_name', 'endorsed_candidate_party', 'question_id',\n",
      "       'sample_size', 'population', 'subpopulation', 'population_full',\n",
      "       'tracking', 'created_at', 'notes', 'url', 'url_article', 'url_topline',\n",
      "       'url_crosstab', 'source', 'internal', 'partisan', 'race_id', 'cycle',\n",
      "       'office_type', 'seat_number', 'seat_name', 'election_date', 'stage',\n",
      "       'nationwide_batch', 'ranked_choice_reallocated', 'ranked_choice_round',\n",
      "       'hypothetical', 'party', 'answer', 'candidate_id', 'candidate_name',\n",
      "       'pct'],\n",
      "      dtype='object')\n",
      "('ALABAMA', 2, 2024)\n"
     ]
    }
   ],
   "source": [
    "polls = pd.read_csv('data/house_polls_merged.csv')\n",
    "polls['candidate_name'] = polls['candidate_name'].apply(lambda x: x.upper())\n",
    "polls['state'] = polls['state'].apply(lambda x: x.upper())\n",
    "\n",
    "print(polls.columns)\n",
    "groupby = polls.groupby(['state', 'seat_number', 'cycle'])\n",
    "\n",
    "groups = list(groupby)\n",
    "\n",
    "\n",
    "# atts that good be good (beyond obvious):\n",
    "# poll_id, pollster_id, sponsor_id, pollster_rating_id, pollscore, methodology, transparency score, sample_size, partisan\n",
    "# sample_size\n",
    "\n",
    "poll_df = pd.DataFrame(columns=['year', 'state', 'district', 'c1', 'c2', 'c1_party', 'c2_party', 'c1_pct', 'c2_pct'])\n",
    "\n",
    "\n",
    "print(groups[0][0])\n",
    "for group in groups:\n",
    "    df = group[1]\n",
    "    c1_idx = df['pct'].idxmax()\n",
    "    c1 = df['candidate_name'][c1_idx]\n",
    "    c1_party = df['party'][c1_idx]\n",
    "    c1_pct = df['pct'][c1_idx]\n",
    "\n",
    "    df = df.drop(index=c1_idx)\n",
    "    try:\n",
    "        c2_idx = df['pct'].idxmax()\n",
    "        c2 = df['candidate_name'][c2_idx]\n",
    "        c2_party = df['party'][c2_idx]\n",
    "        c2_pct = df['pct'][c2_idx]\n",
    "    except:\n",
    "        c2, c2_party, c2_pct = None, None, None\n",
    "\n",
    "   \n",
    "    new_row = [group[0][2], group[0][0], group[0][1], c1, c2, c1_party, c2_party, c1_pct, c2_pct]\n",
    "    poll_df.loc[len(poll_df)] = new_row\n",
    "\n",
    "\n",
    "\n"
   ]
  },
  {
   "cell_type": "code",
   "execution_count": 16,
   "metadata": {},
   "outputs": [
    {
     "name": "stdout",
     "output_type": "stream",
     "text": [
      "Index(['year', 'state', 'district', 'c1', 'c2', 'c1_party', 'c2_party',\n",
      "       'c1_pct', 'c2_pct'],\n",
      "      dtype='object')\n",
      "Index(['year', 'state', 'district', 'c1', 'c2', 'c1_party', 'c2_party',\n",
      "       'c1_votes', 'c2_votes', 'winner', 'winner_party'],\n",
      "      dtype='object')\n",
      "484\n"
     ]
    }
   ],
   "source": [
    "print(poll_df.columns)\n",
    "print(election_df.columns)\n",
    "\n",
    "print(len(poll_df.values))\n",
    "\n"
   ]
  },
  {
   "cell_type": "code",
   "execution_count": 17,
   "metadata": {},
   "outputs": [
    {
     "name": "stdout",
     "output_type": "stream",
     "text": [
      "363\n"
     ]
    },
    {
     "data": {
      "text/plain": [
       "<Axes: >"
      ]
     },
     "execution_count": 17,
     "metadata": {},
     "output_type": "execute_result"
    },
    {
     "data": {
      "image/png": "[encoded data removed]",
      "text/plain": [
       "<Figure size 640x480 with 1 Axes>"
      ]
     },
     "metadata": {},
     "output_type": "display_data"
    }
   ],
   "source": [
    "# joined_df = election_df.join(poll_df, on=['year', 'state', 'district'], how='inner')\n",
    "\n",
    "joined_df = pd.merge(election_df, poll_df, on=['year', 'state', 'district'])\n",
    "\n",
    "print(len(joined_df.values))\n",
    "\n",
    "joined_df.to_csv('joined_table.csv')\n",
    "\n",
    "\n",
    "joined_df['winner_party'].value_counts().plot(kind='bar')\n",
    "\n",
    "\n"
   ]
  }
 ],
 "metadata": {
  "kernelspec": {
   "display_name": "base",
   "language": "python",
   "name": "python3"
  },
  "language_info": {
   "codemirror_mode": {
    "name": "ipython",
    "version": 3
   },
   "file_extension": ".py",
   "mimetype": "text/x-python",
   "name": "python",
   "nbconvert_exporter": "python",
   "pygments_lexer": "ipython3",
   "version": "3.11.4"
  }
 },
 "nbformat": 4,
 "nbformat_minor": 2
}
