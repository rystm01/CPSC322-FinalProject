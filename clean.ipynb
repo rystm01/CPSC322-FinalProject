{
 "cells": [
  {
   "cell_type": "code",
   "execution_count": null,
   "metadata": {},
   "outputs": [
    {
     "name": "stdout",
     "output_type": "stream",
     "text": [
      "Index(['poll_id', 'pollster_id', 'pollster', 'sponsor_ids', 'sponsors',\n",
      "       'display_name', 'pollster_rating_id', 'pollster_rating_name',\n",
      "       'numeric_grade', 'pollscore', 'methodology', 'transparency_score',\n",
      "       'state', 'start_date', 'end_date', 'sponsor_candidate_id',\n",
      "       'sponsor_candidate', 'sponsor_candidate_party', 'endorsed_candidate_id',\n",
      "       'endorsed_candidate_name', 'endorsed_candidate_party', 'question_id',\n",
      "       'sample_size', 'population', 'subpopulation', 'population_full',\n",
      "       'tracking', 'created_at', 'notes', 'url', 'url_article', 'url_topline',\n",
      "       'url_crosstab', 'source', 'internal', 'partisan', 'race_id', 'cycle',\n",
      "       'office_type', 'seat_number', 'seat_name', 'election_date', 'stage',\n",
      "       'nationwide_batch', 'ranked_choice_reallocated', 'ranked_choice_round',\n",
      "       'hypothetical', 'party', 'answer', 'candidate_id', 'candidate_name',\n",
      "       'pct'],\n",
      "      dtype='object')\n",
      "Index(['year', 'state', 'state_po', 'state_fips', 'state_cen', 'state_ic',\n",
      "       'office', 'district', 'stage', 'runoff', 'special', 'candidate',\n",
      "       'party', 'writein', 'mode', 'candidatevotes', 'totalvotes',\n",
      "       'unofficial', 'version', 'fusion_ticket'],\n",
      "      dtype='object')\n",
      "(32452, 20)\n",
      "(4175, 20)\n",
      "{2018, 2020, 2022}\n"
     ]
    }
   ],
   "source": [
    "import pandas as pd\n",
    "\n",
    "polls = pd.read_csv('data/house_polls_merged.csv')\n",
    "elections = pd.read_csv('data/1976-2022-house.csv')\n",
    "\n",
    "print(polls.columns)\n",
    "print(elections.columns)\n",
    "print(elections.shape)\n",
    "\n",
    "elections_2018_2022 = elections[elections['year'] >= 2018]\n",
    "print(elections_2018_2022.shape)\n",
    "print(set(elections_2018_2022['year']))\n",
    "elections_2018_2022.to_csv('data/2018-2022-house.csv')"
   ]
  }
 ],
 "metadata": {
  "kernelspec": {
   "display_name": "base",
   "language": "python",
   "name": "python3"
  },
  "language_info": {
   "codemirror_mode": {
    "name": "ipython",
    "version": 3
   },
   "file_extension": ".py",
   "mimetype": "text/x-python",
   "name": "python",
   "nbconvert_exporter": "python",
   "pygments_lexer": "ipython3",
   "version": "3.11.4"
  }
 },
 "nbformat": 4,
 "nbformat_minor": 2
}
