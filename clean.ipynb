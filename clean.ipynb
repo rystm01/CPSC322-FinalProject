{
 "cells": [
  {
   "cell_type": "code",
   "execution_count": 12,
   "metadata": {},
   "outputs": [],
   "source": [
    "import pandas as pd\n",
    "polls = pd.read_csv('data/house_polls_merged.csv')\n",
    "elections = pd.read_csv('data/1976-2022-house.csv')"
   ]
  },
  {
   "cell_type": "code",
   "execution_count": 13,
   "metadata": {},
   "outputs": [],
   "source": [
    "elections_2018_2022 = pd.read_csv('data/2018-2022-house.csv')\n",
    "elections_2018_2022.index = [i for i in range(len(elections_2018_2022.values))]\n",
    "groupby = elections_2018_2022.groupby(['year', 'state', 'district'])"
   ]
  },
  {
   "cell_type": "code",
   "execution_count": 14,
   "metadata": {},
   "outputs": [
    {
     "name": "stdout",
     "output_type": "stream",
     "text": [
      "{'GEN'}\n"
     ]
    }
   ],
   "source": [
    "print(set(elections_2018_2022['stage']))"
   ]
  },
  {
   "cell_type": "code",
   "execution_count": 15,
   "metadata": {},
   "outputs": [],
   "source": [
    "\n",
    "election_df = pd.DataFrame(columns=['year', 'state', 'district', 'c1', 'c2', 'c1_party', 'c2_party', 'c1_votes', 'c2_votes', 'winner'])\n",
    "\n",
    "# print(election_df.shape)\n",
    "groups = list(groupby)\n",
    "\n",
    "\n",
    "\n",
    "\n",
    "# election key: {year, state, district}\n",
    "# group is tuple of (election key, DF with canidate instances)\n",
    "# print(groups[0][1].columns)\n",
    "for group in groups:\n",
    "    df = group[1]\n",
    "    c1_idx = df['totalvotes'].idxmax()\n",
    "    c1 = df['candidate'][c1_idx]\n",
    "    c1_party = df['party'][c1_idx]\n",
    "    c1_votes = df['totalvotes'][c1_idx]\n",
    "\n",
    "    df = df.drop(index=c1_idx)\n",
    "    try:\n",
    "        c2_idx = df['totalvotes'].idxmax()\n",
    "        c2 = df['candidate'][c2_idx]\n",
    "        c2_party = df['party'][c2_idx]\n",
    "        c2_votes = df['totalvotes'][c2_idx]\n",
    "    except:\n",
    "        c2, c2_party, c2_votes = None, None, None\n",
    "    \n",
    "   \n",
    "    new_row = [group[0][0], group[0][1], group[0][2], c1, c2, c1_party, c2_party, c1_votes, c2_votes, c1]\n",
    "    election_df.loc[len(election_df)] = new_row\n",
    "    \n",
    "\n",
    "# print(election_df.columns)\n",
    "# print(election_df.shape)\n",
    "# print(election_df.values[:10])\n",
    "\n"
   ]
  },
  {
   "cell_type": "code",
   "execution_count": 18,
   "metadata": {},
   "outputs": [],
   "source": [
    "\n",
    "election_df.to_csv('data/elections-2018-2022.csv', index=False)"
   ]
  },
  {
   "cell_type": "code",
   "execution_count": null,
   "metadata": {},
   "outputs": [
    {
     "name": "stdout",
     "output_type": "stream",
     "text": [
      "Index(['poll_id', 'pollster_id', 'pollster', 'sponsor_ids', 'sponsors',\n",
      "       'display_name', 'pollster_rating_id', 'pollster_rating_name',\n",
      "       'numeric_grade', 'pollscore', 'methodology', 'transparency_score',\n",
      "       'state', 'start_date', 'end_date', 'sponsor_candidate_id',\n",
      "       'sponsor_candidate', 'sponsor_candidate_party', 'endorsed_candidate_id',\n",
      "       'endorsed_candidate_name', 'endorsed_candidate_party', 'question_id',\n",
      "       'sample_size', 'population', 'subpopulation', 'population_full',\n",
      "       'tracking', 'created_at', 'notes', 'url', 'url_article', 'url_topline',\n",
      "       'url_crosstab', 'source', 'internal', 'partisan', 'race_id', 'cycle',\n",
      "       'office_type', 'seat_number', 'election_date', 'stage',\n",
      "       'nationwide_batch', 'ranked_choice_reallocated', 'ranked_choice_round',\n",
      "       'hypothetical', 'party', 'answer', 'candidate_id', 'candidate_name',\n",
      "       'pct'],\n",
      "      dtype='object')\n"
     ]
    }
   ],
   "source": [
    "polls = pd.read_csv('data/house_polls_merged.csv')\n",
    "polls['candidate_name'] = polls['candidate_name'].apply(lambda x: x.upper())\n",
    "polls['state'] = polls['state'].apply(lambda x: x.upper())\n",
    "\n",
    "print(polls.columns)\n",
    "groupby = polls.groupby(['state', 'seat_number', 'cycle'])\n",
    "\n",
    "groups = list(groupby)\n",
    "\n",
    "# atts that good be good (beyond obvious):\n",
    "# poll_id, pollster_id, sponsor_id, pollster_rating_id, pollscore, methodology, transparency score, sample_size, partisan\n",
    "# sample_size\n",
    "\n",
    "\n",
    "# for group in groups:\n",
    "#     df = group[1]\n",
    "#     c1_idx = df['totalvotes'].idxmax()\n",
    "#     c1 = df['candidate'][c1_idx]\n",
    "#     c1_party = df['party'][c1_idx]\n",
    "#     c1_votes = df['totalvotes'][c1_idx]\n",
    "\n",
    "#     df = df.drop(index=c1_idx)\n",
    "#     try:\n",
    "#         c2_idx = df['totalvotes'].idxmax()\n",
    "#         c2 = df['candidate'][c2_idx]\n",
    "#         c2_party = df['party'][c2_idx]\n",
    "#         c2_votes = df['totalvotes'][c2_idx]\n",
    "#     except:\n",
    "#         c2, c2_party, c2_votes = None, None, None\n",
    "    \n",
    "   \n",
    "#     new_row = [group[0][0], group[0][1], group[0][2], c1, c2, c1_party, c2_party, c1_votes, c2_votes, c1]\n",
    "#     election_df.loc[len(election_df)] = new_row\n",
    "\n"
   ]
  }
 ],
 "metadata": {
  "kernelspec": {
   "display_name": "base",
   "language": "python",
   "name": "python3"
  },
  "language_info": {
   "codemirror_mode": {
    "name": "ipython",
    "version": 3
   },
   "file_extension": ".py",
   "mimetype": "text/x-python",
   "name": "python",
   "nbconvert_exporter": "python",
   "pygments_lexer": "ipython3",
   "version": "3.11.4"
  }
 },
 "nbformat": 4,
 "nbformat_minor": 2
}
