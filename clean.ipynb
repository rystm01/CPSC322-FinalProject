{
 "cells": [
  {
   "cell_type": "code",
   "execution_count": 2,
   "metadata": {},
   "outputs": [],
   "source": [
    "import pandas as pd\n",
    "polls = pd.read_csv('data/house_polls_merged.csv')\n",
    "elections = pd.read_csv('data/1976-2022-house.csv')"
   ]
  },
  {
   "cell_type": "code",
   "execution_count": 20,
   "metadata": {},
   "outputs": [],
   "source": [
    "elections_2018_2022 = pd.read_csv('data/2018-2022-house.csv')\n",
    "elections_2018_2022.index = [i for i in range(len(elections_2018_2022.values))]\n",
    "groupby = elections_2018_2022.groupby(['year', 'state', 'district'])"
   ]
  },
  {
   "cell_type": "code",
   "execution_count": 61,
   "metadata": {},
   "outputs": [
    {
     "name": "stdout",
     "output_type": "stream",
     "text": [
      "{'GEN'}\n"
     ]
    }
   ],
   "source": [
    "print(set(elections_2018_2022['stage']))"
   ]
  },
  {
   "cell_type": "code",
   "execution_count": null,
   "metadata": {},
   "outputs": [
    {
     "name": "stdout",
     "output_type": "stream",
     "text": [
      "(0, 10)\n",
      "Index(['year', 'state', 'state_po', 'state_fips', 'state_cen', 'state_ic',\n",
      "       'office', 'district', 'stage', 'runoff', 'special', 'candidate',\n",
      "       'party', 'writein', 'mode', 'candidatevotes', 'totalvotes',\n",
      "       'unofficial', 'version', 'fusion_ticket'],\n",
      "      dtype='object')\n",
      "Index(['year', 'state', 'district', 'c1', 'c2', 'c1_party', 'c2_party',\n",
      "       'c1_votes', 'c2_votes', 'winner'],\n",
      "      dtype='object')\n",
      "(1306, 10)\n",
      "[[2018 'ALABAMA' 1 'BRADLEY BYRNE' 'ROBERT KENNEDY JR' 'REPUBLICAN'\n",
      "  'DEMOCRAT' 242617 242617 'BRADLEY BYRNE']\n",
      " [2018 'ALABAMA' 2 'MARTHA ROBY' 'TABITHA ISNER' 'REPUBLICAN' 'DEMOCRAT'\n",
      "  226230 226230 'MARTHA ROBY']\n",
      " [2018 'ALABAMA' 3 'MALLORY HAGAN' 'MIKE ROGERS' 'DEMOCRAT' 'REPUBLICAN'\n",
      "  231915 231915 'MALLORY HAGAN']\n",
      " [2018 'ALABAMA' 4 'LEE AUMAN' 'ROBERT ADERHOLT' 'DEMOCRAT' 'REPUBLICAN'\n",
      "  230969 230969 'LEE AUMAN']\n",
      " [2018 'ALABAMA' 5 'MO BROOKS' 'PETER JOFFRION' 'REPUBLICAN' 'DEMOCRAT'\n",
      "  260673 260673 'MO BROOKS']\n",
      " [2018 'ALABAMA' 6 'DANNER KLINE' 'GARY PALMER' 'DEMOCRAT' 'REPUBLICAN'\n",
      "  278328 278328 'DANNER KLINE']\n",
      " [2018 'ALABAMA' 7 'TERRI SEWELL' 'WRITEIN' 'DEMOCRAT' nan 189163 189163\n",
      "  'TERRI SEWELL']\n",
      " [2018 'ALASKA' 0 'ALYSE S GALVIN' 'DON YOUNG' 'DEMOCRAT' 'REPUBLICAN'\n",
      "  282166 282166 'ALYSE S GALVIN']\n",
      " [2018 'ARIZONA' 1 \"TOM O'HALLERAN\" 'WENDY ROGERS' 'DEMOCRAT'\n",
      "  'REPUBLICAN' 266089 266089 \"TOM O'HALLERAN\"]\n",
      " [2018 'ARIZONA' 2 'ANN KIRKPATRICK' 'LEA MARQUEZ PETERSON' 'DEMOCRAT'\n",
      "  'REPUBLICAN' 294152 294152 'ANN KIRKPATRICK']]\n"
     ]
    }
   ],
   "source": [
    "\n",
    "election_df = pd.DataFrame(columns=['year', 'state', 'district', 'c1', 'c2', 'c1_party', 'c2_party', 'c1_votes', 'c2_votes', 'winner'])\n",
    "\n",
    "print(election_df.shape)\n",
    "groups = list(groupby)\n",
    "\n",
    "\n",
    "\n",
    "\n",
    "# election key: {year, state, district}\n",
    "# group is tuple of (election key, DF with canidate instances)\n",
    "print(groups[0][1].columns)\n",
    "for group in groups:\n",
    "    df = group[1]\n",
    "    c1_idx = df['totalvotes'].idxmax()\n",
    "    c1 = df['candidate'][c1_idx]\n",
    "    c1_party = df['party'][c1_idx]\n",
    "    c1_votes = df['totalvotes'][c1_idx]\n",
    "\n",
    "    df = df.drop(index=c1_idx)\n",
    "    try:\n",
    "        c2_idx = df['totalvotes'].idxmax()\n",
    "        c2 = df['candidate'][c2_idx]\n",
    "        c2_party = df['party'][c2_idx]\n",
    "        c2_votes = df['totalvotes'][c2_idx]\n",
    "    except:\n",
    "        c2, c2_party, c2_votes = None, None, None\n",
    "    \n",
    "   \n",
    "    new_row = [group[0][0], group[0][1], group[0][2], c1, c2, c1_party, c2_party, c1_votes, c2_votes, c1]\n",
    "    election_df.loc[len(election_df)] = new_row\n",
    "    \n",
    "\n",
    "print(election_df.columns)\n",
    "print(election_df.shape)\n",
    "print(election_df.values[:10])\n"
   ]
  },
  {
   "cell_type": "code",
   "execution_count": null,
   "metadata": {},
   "outputs": [],
   "source": []
  }
 ],
 "metadata": {
  "kernelspec": {
   "display_name": "base",
   "language": "python",
   "name": "python3"
  },
  "language_info": {
   "codemirror_mode": {
    "name": "ipython",
    "version": 3
   },
   "file_extension": ".py",
   "mimetype": "text/x-python",
   "name": "python",
   "nbconvert_exporter": "python",
   "pygments_lexer": "ipython3",
   "version": "3.11.4"
  }
 },
 "nbformat": 4,
 "nbformat_minor": 2
}
