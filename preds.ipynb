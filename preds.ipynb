{
 "cells": [
  {
   "cell_type": "code",
   "execution_count": null,
   "metadata": {},
   "outputs": [],
   "source": [
    "from classifiers.myclassifiers import MyKNeighborsClassifier as knn\n",
    "from classifiers.myclassifiers import MyNaiveBayesClassifier as bayes\n",
    "from classifiers.myclassifiers import MyDummyClassifier as dummy\n",
    "\n",
    "import pandas as pd\n",
    "import sklearn.metrics as metrics\n"
   ]
  },
  {
   "cell_type": "code",
   "execution_count": null,
   "metadata": {},
   "outputs": [],
   "source": [
    "data = pd.read_csv(\"datajoined_polls_elections.csv\")\n",
    "\n",
    "\n",
    "d = dummy()\n",
    "\n",
    "\n",
    "\n",
    "y_train = data['winner_party']\n",
    "X_train = data.drop('winner_party', axis=1)\n",
    "\n",
    "for i in range(len(y_train)):\n",
    "  if y_train[i] == 'DEMOCRATIC-FARMER-LABOR':\n",
    "    y_train[i] = 'DEMOCRAT'\n",
    "\n",
    "print((y_train).value_counts())\n",
    "\n",
    "d.fit(list(X_train.values), list(y_train.values))\n",
    "\n",
    "preds = d.predict(list(y_train.values))\n",
    "\n",
    "acc = sum([ 1 for i in range(len(y_train)) if y_train[i] == preds[i]])/len(preds)\n",
    "\n",
    "print(\"dummy acc : \" + str(acc))\n",
    "\n",
    "\n"
   ]
  },
  {
   "cell_type": "code",
   "execution_count": null,
   "metadata": {},
   "outputs": [],
   "source": [
    "\n",
    "\n",
    "kn = knn()\n",
    "X = X_train[['c1_pct', 'c2_pct', 'c1_party_x', 'c2_party_x']]\n",
    "kn.fit(list(X.values), list(y_train.values))\n",
    "preds = kn.predict(list(X.values), categorical=True)\n",
    "acc = sum([ 1 for i in range(len(y_train)) if y_train[i] == preds[i]])/len(preds)\n",
    "print(\"knn acc : \" + str(acc))\n"
   ]
  },
  {
   "cell_type": "code",
   "execution_count": null,
   "metadata": {},
   "outputs": [],
   "source": [
    "nb = bayes()\n",
    "X = X_train[['c1_pct', 'c2_pct', 'c1_party_x', 'c2_party_x']]\n",
    "nb.fit(list(X.values), list(y_train.values))\n",
    "preds = nb.predict(list(X.values))\n",
    "acc = sum([ 1 for i in range(len(y_train)) if y_train[i] == preds[i]])/len(preds)\n",
    "print(\"Naive Bayes acc : \" + str(acc))"
   ]
  }
 ],
 "metadata": {
  "kernelspec": {
   "display_name": "3.9.20",
   "language": "python",
   "name": "python3"
  },
  "language_info": {
   "codemirror_mode": {
    "name": "ipython",
    "version": 3
   },
   "file_extension": ".py",
   "mimetype": "text/x-python",
   "name": "python",
   "nbconvert_exporter": "python",
   "pygments_lexer": "ipython3",
   "version": "3.9.20"
  }
 },
 "nbformat": 4,
 "nbformat_minor": 2
}
