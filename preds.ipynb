{
 "cells": [
  {
   "cell_type": "code",
   "execution_count": null,
   "metadata": {},
   "outputs": [],
   "source": [
    "from classifiers.myclassifiers import MyKNeighborsClassifier as knn\n",
    "from classifiers.myclassifiers import MyNaiveBayesClassifier\n",
    "import pandas as pd"
   ]
  },
  {
   "cell_type": "code",
   "execution_count": null,
   "metadata": {},
   "outputs": [],
   "source": [
    "elections = pd.read_csv('data/elections-2018-2022.csv')\n",
    "polls = pd.read_csv('data/house_polls_historical.csv')\n",
    "\n",
    "nb = MyNaiveBayesClassifier()\n",
    "\n",
    "y_train = elections['winners']\n",
    "\n",
    "\n",
    "knn.fit()\n"
   ]
  }
 ],
 "metadata": {
  "kernelspec": {
   "display_name": "base",
   "language": "python",
   "name": "python3"
  },
  "language_info": {
   "codemirror_mode": {
    "name": "ipython",
    "version": 3
   },
   "file_extension": ".py",
   "mimetype": "text/x-python",
   "name": "python",
   "nbconvert_exporter": "python",
   "pygments_lexer": "ipython3",
   "version": "3.11.4"
  }
 },
 "nbformat": 4,
 "nbformat_minor": 2
}
