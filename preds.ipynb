{
 "cells": [
  {
   "cell_type": "code",
   "execution_count": 2,
   "metadata": {},
   "outputs": [],
   "source": [
    "from classifiers.myclassifiers import MyKNeighborsClassifier as knn\n",
    "from classifiers.myclassifiers import MyNaiveBayesClassifier as bayes\n",
    "from classifiers.myclassifiers import MyDummyClassifier as dummy\n",
    "import pandas as pd\n",
    "import sklearn.metrics as metrics"
   ]
  },
  {
   "cell_type": "code",
   "execution_count": null,
   "metadata": {},
   "outputs": [
    {
     "name": "stdout",
     "output_type": "stream",
     "text": [
      "REPUBLICAN                 204\n",
      "DEMOCRAT                   155\n",
      "DEMOCRATIC-FARMER-LABOR      3\n",
      "Name: winner_party, dtype: int64\n",
      "0.5619834710743802\n"
     ]
    }
   ],
   "source": [
    "data = pd.read_csv(\"data\\joined_polls_elections.csv\")\n",
    "\n",
    "\n",
    "d = dummy()\n",
    "\n",
    "\n",
    "\n",
    "y_train = data['winner_party']\n",
    "X_train = data.drop('winner_party', axis=1)\n",
    "\n",
    "for i in range(len(y_train)):\n",
    "  if y_train[i] == 'DEMOCRATIC-FARMER-LABOR':\n",
    "    y_train[i] = 'DEMOCRAT'\n",
    "\n",
    "print((y_train).value_counts())\n",
    "\n",
    "d.fit(list(X_train.values), list(y_train.values))\n",
    "\n",
    "preds = d.predict(list(y_train.values))\n",
    "\n",
    "acc = sum([ 1 for i in range(len(y_train)) if y_train[i] == preds[i]])/len(preds)\n",
    "\n",
    "print(acc)\n",
    "\n",
    "\n",
    "# knn.fit()\n"
   ]
  }
 ],
 "metadata": {
  "kernelspec": {
   "display_name": "base",
   "language": "python",
   "name": "python3"
  },
  "language_info": {
   "codemirror_mode": {
    "name": "ipython",
    "version": 3
   },
   "file_extension": ".py",
   "mimetype": "text/x-python",
   "name": "python",
   "nbconvert_exporter": "python",
   "pygments_lexer": "ipython3",
   "version": "3.11.4"
  }
 },
 "nbformat": 4,
 "nbformat_minor": 2
}
