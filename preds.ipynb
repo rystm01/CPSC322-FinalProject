{
 "cells": [
  {
   "cell_type": "code",
   "execution_count": null,
   "metadata": {},
   "outputs": [
    {
     "name": "stderr",
     "output_type": "stream",
     "text": [
      "c:\\Users\\ryans\\OneDrive\\Documents\\aaFall2024\\data algs\\CPSC322-FinalProject\\classifiers\\myclassifiers.py:328: SyntaxWarning: \"is\" with a literal. Did you mean \"==\"?\n",
      "  if depth is self.max_depth or len(y) < self.min_samples_split or entropy(y) is 0:\n",
      "c:\\Users\\ryans\\OneDrive\\Documents\\aaFall2024\\data algs\\CPSC322-FinalProject\\classifiers\\myclassifiers.py:334: SyntaxWarning: \"is\" with a literal. Did you mean \"==\"?\n",
      "  if y_true.shape[0] is 0 or y_false.shape[0] is 0:\n",
      "c:\\Users\\ryans\\OneDrive\\Documents\\aaFall2024\\data algs\\CPSC322-FinalProject\\classifiers\\myclassifiers.py:334: SyntaxWarning: \"is\" with a literal. Did you mean \"==\"?\n",
      "  if y_true.shape[0] is 0 or y_false.shape[0] is 0:\n"
     ]
    }
   ],
   "source": [
    "from classifiers.myclassifiers import MyKNeighborsClassifier as knn\n",
    "from classifiers.myclassifiers import MyNaiveBayesClassifier as bayes\n",
    "from classifiers.myclassifiers import MyDummyClassifier as dummy\n",
    "\n",
    "import pandas as pd\n",
    "import sklearn.metrics as metrics\n"
   ]
  },
  {
   "cell_type": "code",
   "execution_count": 3,
   "metadata": {},
   "outputs": [
    {
     "name": "stdout",
     "output_type": "stream",
     "text": [
      "REPUBLICAN    204\n",
      "DEMOCRAT      158\n",
      "Name: winner_party, dtype: int64\n",
      "dummy acc : 0.5619834710743802\n"
     ]
    },
    {
     "name": "stderr",
     "output_type": "stream",
     "text": [
      "C:\\Users\\ryans\\AppData\\Local\\Temp\\ipykernel_20052\\2998790282.py:13: SettingWithCopyWarning: \n",
      "A value is trying to be set on a copy of a slice from a DataFrame\n",
      "\n",
      "See the caveats in the documentation: https://pandas.pydata.org/pandas-docs/stable/user_guide/indexing.html#returning-a-view-versus-a-copy\n",
      "  y_train[i] = 'DEMOCRAT'\n"
     ]
    }
   ],
   "source": [
    "data = pd.read_csv(\"data\\joined_polls_elections.csv\")\n",
    "\n",
    "\n",
    "d = dummy()\n",
    "\n",
    "\n",
    "\n",
    "y_train = data['winner_party']\n",
    "X_train = data.drop('winner_party', axis=1)\n",
    "\n",
    "for i in range(len(y_train)):\n",
    "  if y_train[i] == 'DEMOCRATIC-FARMER-LABOR':\n",
    "    y_train[i] = 'DEMOCRAT'\n",
    "\n",
    "print((y_train).value_counts())\n",
    "\n",
    "d.fit(list(X_train.values), list(y_train.values))\n",
    "\n",
    "preds = d.predict(list(y_train.values))\n",
    "\n",
    "acc = sum([ 1 for i in range(len(y_train)) if y_train[i] == preds[i]])/len(preds)\n",
    "\n",
    "print(\"dummy acc : \" + str(acc))\n",
    "\n",
    "\n"
   ]
  },
  {
   "cell_type": "code",
   "execution_count": 4,
   "metadata": {},
   "outputs": [
    {
     "name": "stdout",
     "output_type": "stream",
     "text": [
      "knn acc : 0.9972451790633609\n"
     ]
    }
   ],
   "source": [
    "\n",
    "\n",
    "kn = knn()\n",
    "X = X_train[['c1_pct', 'c2_pct', 'c1_party_x', 'c2_party_x']]\n",
    "kn.fit(list(X.values), list(y_train.values))\n",
    "preds = kn.predict(list(X.values), categorical=True)\n",
    "acc = sum([ 1 for i in range(len(y_train)) if y_train[i] == preds[i]])/len(preds)\n",
    "print(\"knn acc : \" + str(acc))\n"
   ]
  },
  {
   "cell_type": "code",
   "execution_count": 5,
   "metadata": {},
   "outputs": [
    {
     "name": "stdout",
     "output_type": "stream",
     "text": [
      "Nsive Bayes acc : 0.9972451790633609\n"
     ]
    }
   ],
   "source": [
    "nb = bayes()\n",
    "X = X_train[['c1_pct', 'c2_pct', 'c1_party_x', 'c2_party_x']]\n",
    "nb.fit(list(X.values), list(y_train.values))\n",
    "preds = nb.predict(list(X.values))\n",
    "acc = sum([ 1 for i in range(len(y_train)) if y_train[i] == preds[i]])/len(preds)\n",
    "print(\"Nsive Bayes acc : \" + str(acc))"
   ]
  },
  {
   "cell_type": "code",
   "execution_count": null,
   "metadata": {},
   "outputs": [],
   "source": []
  }
 ],
 "metadata": {
  "kernelspec": {
   "display_name": "base",
   "language": "python",
   "name": "python3"
  },
  "language_info": {
   "codemirror_mode": {
    "name": "ipython",
    "version": 3
   },
   "file_extension": ".py",
   "mimetype": "text/x-python",
   "name": "python",
   "nbconvert_exporter": "python",
   "pygments_lexer": "ipython3",
   "version": "3.11.4"
  }
 },
 "nbformat": 4,
 "nbformat_minor": 2
}
